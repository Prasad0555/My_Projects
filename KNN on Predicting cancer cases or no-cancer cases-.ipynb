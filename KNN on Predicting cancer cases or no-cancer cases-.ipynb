{
 "cells": [
  {
   "cell_type": "markdown",
   "metadata": {},
   "source": [
    "# setting the working directory"
   ]
  },
  {
   "cell_type": "code",
   "execution_count": 1,
   "metadata": {},
   "outputs": [],
   "source": [
    "import os as os "
   ]
  },
  {
   "cell_type": "code",
   "execution_count": 2,
   "metadata": {},
   "outputs": [],
   "source": [
    "os.chdir('C:\\\\Users\\\\MyPC\\\\Desktop\\\\Project 9 KNN (Py.)')"
   ]
  },
  {
   "cell_type": "code",
   "execution_count": 3,
   "metadata": {},
   "outputs": [
    {
     "data": {
      "text/plain": [
       "'C:\\\\Users\\\\MyPC\\\\Desktop\\\\Project 9 KNN (Py.)'"
      ]
     },
     "execution_count": 3,
     "metadata": {},
     "output_type": "execute_result"
    }
   ],
   "source": [
    "os.getcwd()"
   ]
  },
  {
   "cell_type": "code",
   "execution_count": 4,
   "metadata": {},
   "outputs": [
    {
     "data": {
      "text/plain": [
       "['Breast Cancer - Data Description.rtf',\n",
       " 'cancerdata.csv',\n",
       " 'Problem Statement.docx']"
      ]
     },
     "execution_count": 4,
     "metadata": {},
     "output_type": "execute_result"
    }
   ],
   "source": [
    "os.listdir()"
   ]
  },
  {
   "cell_type": "code",
   "execution_count": null,
   "metadata": {},
   "outputs": [],
   "source": []
  },
  {
   "cell_type": "code",
   "execution_count": 5,
   "metadata": {},
   "outputs": [],
   "source": [
    "import pandas as pd\n",
    "import numpy as np\n",
    "import matplotlib.pyplot as plt\n",
    "import seaborn as sns\n",
    "\n",
    "%matplotlib inline"
   ]
  },
  {
   "cell_type": "markdown",
   "metadata": {},
   "source": [
    "# data import "
   ]
  },
  {
   "cell_type": "code",
   "execution_count": 6,
   "metadata": {},
   "outputs": [
    {
     "data": {
      "text/html": [
       "<div>\n",
       "<style scoped>\n",
       "    .dataframe tbody tr th:only-of-type {\n",
       "        vertical-align: middle;\n",
       "    }\n",
       "\n",
       "    .dataframe tbody tr th {\n",
       "        vertical-align: top;\n",
       "    }\n",
       "\n",
       "    .dataframe thead th {\n",
       "        text-align: right;\n",
       "    }\n",
       "</style>\n",
       "<table border=\"1\" class=\"dataframe\">\n",
       "  <thead>\n",
       "    <tr style=\"text-align: right;\">\n",
       "      <th></th>\n",
       "      <th>id</th>\n",
       "      <th>diagnosis</th>\n",
       "      <th>radius_mean</th>\n",
       "      <th>texture_mean</th>\n",
       "      <th>perimeter_mean</th>\n",
       "      <th>area_mean</th>\n",
       "      <th>smoothness_mean</th>\n",
       "      <th>compactness_mean</th>\n",
       "      <th>concavity_mean</th>\n",
       "      <th>concave points_mean</th>\n",
       "      <th>...</th>\n",
       "      <th>radius_worst</th>\n",
       "      <th>texture_worst</th>\n",
       "      <th>perimeter_worst</th>\n",
       "      <th>area_worst</th>\n",
       "      <th>smoothness_worst</th>\n",
       "      <th>compactness_wors</th>\n",
       "      <th>concavity_worst</th>\n",
       "      <th>concave points_worst</th>\n",
       "      <th>symmetry_worst</th>\n",
       "      <th>fractal_dimension_worst</th>\n",
       "    </tr>\n",
       "  </thead>\n",
       "  <tbody>\n",
       "    <tr>\n",
       "      <th>0</th>\n",
       "      <td>842302</td>\n",
       "      <td>M</td>\n",
       "      <td>14.204716</td>\n",
       "      <td>20.202641</td>\n",
       "      <td>122.80</td>\n",
       "      <td>1001.0</td>\n",
       "      <td>0.096113</td>\n",
       "      <td>0.089479</td>\n",
       "      <td>0.184766</td>\n",
       "      <td>0.096526</td>\n",
       "      <td>...</td>\n",
       "      <td>25.38</td>\n",
       "      <td>17.33</td>\n",
       "      <td>184.60</td>\n",
       "      <td>2019.0</td>\n",
       "      <td>0.1622</td>\n",
       "      <td>0.134597</td>\n",
       "      <td>0.7119</td>\n",
       "      <td>0.120681</td>\n",
       "      <td>0.4601</td>\n",
       "      <td>0.101594</td>\n",
       "    </tr>\n",
       "    <tr>\n",
       "      <th>1</th>\n",
       "      <td>842517</td>\n",
       "      <td>M</td>\n",
       "      <td>18.483496</td>\n",
       "      <td>22.464181</td>\n",
       "      <td>132.90</td>\n",
       "      <td>1326.0</td>\n",
       "      <td>0.094443</td>\n",
       "      <td>0.063299</td>\n",
       "      <td>0.086927</td>\n",
       "      <td>0.021108</td>\n",
       "      <td>...</td>\n",
       "      <td>24.99</td>\n",
       "      <td>23.41</td>\n",
       "      <td>158.80</td>\n",
       "      <td>1956.0</td>\n",
       "      <td>0.1238</td>\n",
       "      <td>0.529227</td>\n",
       "      <td>0.2416</td>\n",
       "      <td>0.035439</td>\n",
       "      <td>0.2750</td>\n",
       "      <td>0.079397</td>\n",
       "    </tr>\n",
       "    <tr>\n",
       "      <th>2</th>\n",
       "      <td>84300903</td>\n",
       "      <td>M</td>\n",
       "      <td>15.516300</td>\n",
       "      <td>18.271486</td>\n",
       "      <td>130.00</td>\n",
       "      <td>1203.0</td>\n",
       "      <td>0.075842</td>\n",
       "      <td>0.059376</td>\n",
       "      <td>0.132738</td>\n",
       "      <td>0.052357</td>\n",
       "      <td>...</td>\n",
       "      <td>23.57</td>\n",
       "      <td>25.53</td>\n",
       "      <td>152.50</td>\n",
       "      <td>1709.0</td>\n",
       "      <td>0.1444</td>\n",
       "      <td>0.166906</td>\n",
       "      <td>0.4504</td>\n",
       "      <td>0.149670</td>\n",
       "      <td>0.3613</td>\n",
       "      <td>0.088802</td>\n",
       "    </tr>\n",
       "    <tr>\n",
       "      <th>3</th>\n",
       "      <td>84348301</td>\n",
       "      <td>M</td>\n",
       "      <td>15.540583</td>\n",
       "      <td>27.560108</td>\n",
       "      <td>77.58</td>\n",
       "      <td>386.1</td>\n",
       "      <td>0.091525</td>\n",
       "      <td>0.088022</td>\n",
       "      <td>0.194466</td>\n",
       "      <td>0.010895</td>\n",
       "      <td>...</td>\n",
       "      <td>14.91</td>\n",
       "      <td>26.50</td>\n",
       "      <td>98.87</td>\n",
       "      <td>567.7</td>\n",
       "      <td>0.2098</td>\n",
       "      <td>0.224998</td>\n",
       "      <td>0.6869</td>\n",
       "      <td>0.110799</td>\n",
       "      <td>0.6638</td>\n",
       "      <td>0.086210</td>\n",
       "    </tr>\n",
       "    <tr>\n",
       "      <th>4</th>\n",
       "      <td>84358402</td>\n",
       "      <td>M</td>\n",
       "      <td>14.005198</td>\n",
       "      <td>11.678064</td>\n",
       "      <td>135.10</td>\n",
       "      <td>1297.0</td>\n",
       "      <td>0.092790</td>\n",
       "      <td>0.010642</td>\n",
       "      <td>0.030518</td>\n",
       "      <td>0.037828</td>\n",
       "      <td>...</td>\n",
       "      <td>22.54</td>\n",
       "      <td>16.67</td>\n",
       "      <td>152.20</td>\n",
       "      <td>1575.0</td>\n",
       "      <td>0.1374</td>\n",
       "      <td>0.075833</td>\n",
       "      <td>0.4000</td>\n",
       "      <td>0.126386</td>\n",
       "      <td>0.2364</td>\n",
       "      <td>0.087483</td>\n",
       "    </tr>\n",
       "  </tbody>\n",
       "</table>\n",
       "<p>5 rows × 32 columns</p>\n",
       "</div>"
      ],
      "text/plain": [
       "         id diagnosis  radius_mean  texture_mean  perimeter_mean  area_mean  \\\n",
       "0    842302         M    14.204716     20.202641          122.80     1001.0   \n",
       "1    842517         M    18.483496     22.464181          132.90     1326.0   \n",
       "2  84300903         M    15.516300     18.271486          130.00     1203.0   \n",
       "3  84348301         M    15.540583     27.560108           77.58      386.1   \n",
       "4  84358402         M    14.005198     11.678064          135.10     1297.0   \n",
       "\n",
       "   smoothness_mean  compactness_mean  concavity_mean  concave points_mean  \\\n",
       "0         0.096113          0.089479        0.184766             0.096526   \n",
       "1         0.094443          0.063299        0.086927             0.021108   \n",
       "2         0.075842          0.059376        0.132738             0.052357   \n",
       "3         0.091525          0.088022        0.194466             0.010895   \n",
       "4         0.092790          0.010642        0.030518             0.037828   \n",
       "\n",
       "   ...  radius_worst  texture_worst  perimeter_worst  area_worst  \\\n",
       "0  ...         25.38          17.33           184.60      2019.0   \n",
       "1  ...         24.99          23.41           158.80      1956.0   \n",
       "2  ...         23.57          25.53           152.50      1709.0   \n",
       "3  ...         14.91          26.50            98.87       567.7   \n",
       "4  ...         22.54          16.67           152.20      1575.0   \n",
       "\n",
       "   smoothness_worst  compactness_wors  concavity_worst  concave points_worst  \\\n",
       "0            0.1622          0.134597           0.7119              0.120681   \n",
       "1            0.1238          0.529227           0.2416              0.035439   \n",
       "2            0.1444          0.166906           0.4504              0.149670   \n",
       "3            0.2098          0.224998           0.6869              0.110799   \n",
       "4            0.1374          0.075833           0.4000              0.126386   \n",
       "\n",
       "   symmetry_worst  fractal_dimension_worst  \n",
       "0          0.4601                 0.101594  \n",
       "1          0.2750                 0.079397  \n",
       "2          0.3613                 0.088802  \n",
       "3          0.6638                 0.086210  \n",
       "4          0.2364                 0.087483  \n",
       "\n",
       "[5 rows x 32 columns]"
      ]
     },
     "execution_count": 6,
     "metadata": {},
     "output_type": "execute_result"
    }
   ],
   "source": [
    "# read the data\n",
    "df_cancerdata = pd.read_csv('cancerdata.csv')\n",
    "df_cancerdata.head()"
   ]
  },
  {
   "cell_type": "code",
   "execution_count": 7,
   "metadata": {},
   "outputs": [],
   "source": [
    "#from IPython.display import display\n",
    "#pd.options.display.max_columns = None\n",
    "#pd.options.display.max_rows = None"
   ]
  },
  {
   "cell_type": "code",
   "execution_count": 8,
   "metadata": {},
   "outputs": [],
   "source": [
    "#display(df_cancerdata)"
   ]
  },
  {
   "cell_type": "code",
   "execution_count": 9,
   "metadata": {},
   "outputs": [],
   "source": [
    "import warnings\n",
    "warnings.filterwarnings('ignore')"
   ]
  },
  {
   "cell_type": "markdown",
   "metadata": {},
   "source": [
    "# We remove the columns that we do not need"
   ]
  },
  {
   "cell_type": "code",
   "execution_count": 10,
   "metadata": {},
   "outputs": [],
   "source": [
    "# removing id and unnamed columns\n",
    "df_cancerdata = df_cancerdata.drop(['id'],axis=1)"
   ]
  },
  {
   "cell_type": "code",
   "execution_count": 11,
   "metadata": {},
   "outputs": [
    {
     "data": {
      "text/html": [
       "<div>\n",
       "<style scoped>\n",
       "    .dataframe tbody tr th:only-of-type {\n",
       "        vertical-align: middle;\n",
       "    }\n",
       "\n",
       "    .dataframe tbody tr th {\n",
       "        vertical-align: top;\n",
       "    }\n",
       "\n",
       "    .dataframe thead th {\n",
       "        text-align: right;\n",
       "    }\n",
       "</style>\n",
       "<table border=\"1\" class=\"dataframe\">\n",
       "  <thead>\n",
       "    <tr style=\"text-align: right;\">\n",
       "      <th></th>\n",
       "      <th>diagnosis</th>\n",
       "      <th>radius_mean</th>\n",
       "      <th>texture_mean</th>\n",
       "      <th>perimeter_mean</th>\n",
       "      <th>area_mean</th>\n",
       "      <th>smoothness_mean</th>\n",
       "      <th>compactness_mean</th>\n",
       "      <th>concavity_mean</th>\n",
       "      <th>concave points_mean</th>\n",
       "      <th>symmetry_mean</th>\n",
       "      <th>...</th>\n",
       "      <th>radius_worst</th>\n",
       "      <th>texture_worst</th>\n",
       "      <th>perimeter_worst</th>\n",
       "      <th>area_worst</th>\n",
       "      <th>smoothness_worst</th>\n",
       "      <th>compactness_wors</th>\n",
       "      <th>concavity_worst</th>\n",
       "      <th>concave points_worst</th>\n",
       "      <th>symmetry_worst</th>\n",
       "      <th>fractal_dimension_worst</th>\n",
       "    </tr>\n",
       "  </thead>\n",
       "  <tbody>\n",
       "    <tr>\n",
       "      <th>0</th>\n",
       "      <td>M</td>\n",
       "      <td>14.204716</td>\n",
       "      <td>20.202641</td>\n",
       "      <td>122.80</td>\n",
       "      <td>1001.0</td>\n",
       "      <td>0.096113</td>\n",
       "      <td>0.089479</td>\n",
       "      <td>0.184766</td>\n",
       "      <td>0.096526</td>\n",
       "      <td>0.150053</td>\n",
       "      <td>...</td>\n",
       "      <td>25.38</td>\n",
       "      <td>17.33</td>\n",
       "      <td>184.60</td>\n",
       "      <td>2019.0</td>\n",
       "      <td>0.1622</td>\n",
       "      <td>0.134597</td>\n",
       "      <td>0.7119</td>\n",
       "      <td>0.120681</td>\n",
       "      <td>0.4601</td>\n",
       "      <td>0.101594</td>\n",
       "    </tr>\n",
       "    <tr>\n",
       "      <th>1</th>\n",
       "      <td>M</td>\n",
       "      <td>18.483496</td>\n",
       "      <td>22.464181</td>\n",
       "      <td>132.90</td>\n",
       "      <td>1326.0</td>\n",
       "      <td>0.094443</td>\n",
       "      <td>0.063299</td>\n",
       "      <td>0.086927</td>\n",
       "      <td>0.021108</td>\n",
       "      <td>0.213798</td>\n",
       "      <td>...</td>\n",
       "      <td>24.99</td>\n",
       "      <td>23.41</td>\n",
       "      <td>158.80</td>\n",
       "      <td>1956.0</td>\n",
       "      <td>0.1238</td>\n",
       "      <td>0.529227</td>\n",
       "      <td>0.2416</td>\n",
       "      <td>0.035439</td>\n",
       "      <td>0.2750</td>\n",
       "      <td>0.079397</td>\n",
       "    </tr>\n",
       "    <tr>\n",
       "      <th>2</th>\n",
       "      <td>M</td>\n",
       "      <td>15.516300</td>\n",
       "      <td>18.271486</td>\n",
       "      <td>130.00</td>\n",
       "      <td>1203.0</td>\n",
       "      <td>0.075842</td>\n",
       "      <td>0.059376</td>\n",
       "      <td>0.132738</td>\n",
       "      <td>0.052357</td>\n",
       "      <td>0.222581</td>\n",
       "      <td>...</td>\n",
       "      <td>23.57</td>\n",
       "      <td>25.53</td>\n",
       "      <td>152.50</td>\n",
       "      <td>1709.0</td>\n",
       "      <td>0.1444</td>\n",
       "      <td>0.166906</td>\n",
       "      <td>0.4504</td>\n",
       "      <td>0.149670</td>\n",
       "      <td>0.3613</td>\n",
       "      <td>0.088802</td>\n",
       "    </tr>\n",
       "    <tr>\n",
       "      <th>3</th>\n",
       "      <td>M</td>\n",
       "      <td>15.540583</td>\n",
       "      <td>27.560108</td>\n",
       "      <td>77.58</td>\n",
       "      <td>386.1</td>\n",
       "      <td>0.091525</td>\n",
       "      <td>0.088022</td>\n",
       "      <td>0.194466</td>\n",
       "      <td>0.010895</td>\n",
       "      <td>0.179685</td>\n",
       "      <td>...</td>\n",
       "      <td>14.91</td>\n",
       "      <td>26.50</td>\n",
       "      <td>98.87</td>\n",
       "      <td>567.7</td>\n",
       "      <td>0.2098</td>\n",
       "      <td>0.224998</td>\n",
       "      <td>0.6869</td>\n",
       "      <td>0.110799</td>\n",
       "      <td>0.6638</td>\n",
       "      <td>0.086210</td>\n",
       "    </tr>\n",
       "    <tr>\n",
       "      <th>4</th>\n",
       "      <td>M</td>\n",
       "      <td>14.005198</td>\n",
       "      <td>11.678064</td>\n",
       "      <td>135.10</td>\n",
       "      <td>1297.0</td>\n",
       "      <td>0.092790</td>\n",
       "      <td>0.010642</td>\n",
       "      <td>0.030518</td>\n",
       "      <td>0.037828</td>\n",
       "      <td>0.147534</td>\n",
       "      <td>...</td>\n",
       "      <td>22.54</td>\n",
       "      <td>16.67</td>\n",
       "      <td>152.20</td>\n",
       "      <td>1575.0</td>\n",
       "      <td>0.1374</td>\n",
       "      <td>0.075833</td>\n",
       "      <td>0.4000</td>\n",
       "      <td>0.126386</td>\n",
       "      <td>0.2364</td>\n",
       "      <td>0.087483</td>\n",
       "    </tr>\n",
       "  </tbody>\n",
       "</table>\n",
       "<p>5 rows × 31 columns</p>\n",
       "</div>"
      ],
      "text/plain": [
       "  diagnosis  radius_mean  texture_mean  perimeter_mean  area_mean  \\\n",
       "0         M    14.204716     20.202641          122.80     1001.0   \n",
       "1         M    18.483496     22.464181          132.90     1326.0   \n",
       "2         M    15.516300     18.271486          130.00     1203.0   \n",
       "3         M    15.540583     27.560108           77.58      386.1   \n",
       "4         M    14.005198     11.678064          135.10     1297.0   \n",
       "\n",
       "   smoothness_mean  compactness_mean  concavity_mean  concave points_mean  \\\n",
       "0         0.096113          0.089479        0.184766             0.096526   \n",
       "1         0.094443          0.063299        0.086927             0.021108   \n",
       "2         0.075842          0.059376        0.132738             0.052357   \n",
       "3         0.091525          0.088022        0.194466             0.010895   \n",
       "4         0.092790          0.010642        0.030518             0.037828   \n",
       "\n",
       "   symmetry_mean  ...  radius_worst  texture_worst  perimeter_worst  \\\n",
       "0       0.150053  ...         25.38          17.33           184.60   \n",
       "1       0.213798  ...         24.99          23.41           158.80   \n",
       "2       0.222581  ...         23.57          25.53           152.50   \n",
       "3       0.179685  ...         14.91          26.50            98.87   \n",
       "4       0.147534  ...         22.54          16.67           152.20   \n",
       "\n",
       "   area_worst  smoothness_worst  compactness_wors  concavity_worst  \\\n",
       "0      2019.0            0.1622          0.134597           0.7119   \n",
       "1      1956.0            0.1238          0.529227           0.2416   \n",
       "2      1709.0            0.1444          0.166906           0.4504   \n",
       "3       567.7            0.2098          0.224998           0.6869   \n",
       "4      1575.0            0.1374          0.075833           0.4000   \n",
       "\n",
       "   concave points_worst  symmetry_worst  fractal_dimension_worst  \n",
       "0              0.120681          0.4601                 0.101594  \n",
       "1              0.035439          0.2750                 0.079397  \n",
       "2              0.149670          0.3613                 0.088802  \n",
       "3              0.110799          0.6638                 0.086210  \n",
       "4              0.126386          0.2364                 0.087483  \n",
       "\n",
       "[5 rows x 31 columns]"
      ]
     },
     "execution_count": 11,
     "metadata": {},
     "output_type": "execute_result"
    }
   ],
   "source": [
    "df_cancerdata.head()"
   ]
  },
  {
   "cell_type": "markdown",
   "metadata": {},
   "source": [
    "# Dimension of dataset"
   ]
  },
  {
   "cell_type": "code",
   "execution_count": 12,
   "metadata": {},
   "outputs": [
    {
     "data": {
      "text/plain": [
       "(569, 31)"
      ]
     },
     "execution_count": 12,
     "metadata": {},
     "output_type": "execute_result"
    }
   ],
   "source": [
    "# To get dimension of dataset\n",
    "df_cancerdata.shape"
   ]
  },
  {
   "cell_type": "markdown",
   "metadata": {},
   "source": [
    "# Checking datatypes"
   ]
  },
  {
   "cell_type": "code",
   "execution_count": 13,
   "metadata": {},
   "outputs": [
    {
     "data": {
      "text/plain": [
       "diagnosis                   object\n",
       "radius_mean                float64\n",
       "texture_mean               float64\n",
       "perimeter_mean             float64\n",
       "area_mean                  float64\n",
       "smoothness_mean            float64\n",
       "compactness_mean           float64\n",
       "concavity_mean             float64\n",
       "concave points_mean        float64\n",
       "symmetry_mean              float64\n",
       "fractal_dimension_mean     float64\n",
       "radius_se                  float64\n",
       "texture_se                 float64\n",
       "perimeter_se               float64\n",
       "area_se                    float64\n",
       "smoothness_se              float64\n",
       "compactness_se             float64\n",
       "concavity_se               float64\n",
       "concave points_se          float64\n",
       "symmetry_se                float64\n",
       "fractal_dimension_se       float64\n",
       "radius_worst               float64\n",
       "texture_worst              float64\n",
       "perimeter_worst            float64\n",
       "area_worst                 float64\n",
       "smoothness_worst           float64\n",
       "compactness_wors           float64\n",
       "concavity_worst            float64\n",
       "concave points_worst       float64\n",
       "symmetry_worst             float64\n",
       "fractal_dimension_worst    float64\n",
       "dtype: object"
      ]
     },
     "execution_count": 13,
     "metadata": {},
     "output_type": "execute_result"
    }
   ],
   "source": [
    "# check datatypes\n",
    "df_cancerdata.dtypes"
   ]
  },
  {
   "cell_type": "code",
   "execution_count": 14,
   "metadata": {},
   "outputs": [
    {
     "name": "stdout",
     "output_type": "stream",
     "text": [
      "<class 'pandas.core.frame.DataFrame'>\n",
      "RangeIndex: 569 entries, 0 to 568\n",
      "Data columns (total 31 columns):\n",
      " #   Column                   Non-Null Count  Dtype  \n",
      "---  ------                   --------------  -----  \n",
      " 0   diagnosis                569 non-null    object \n",
      " 1   radius_mean              569 non-null    float64\n",
      " 2   texture_mean             569 non-null    float64\n",
      " 3   perimeter_mean           569 non-null    float64\n",
      " 4   area_mean                569 non-null    float64\n",
      " 5   smoothness_mean          569 non-null    float64\n",
      " 6   compactness_mean         569 non-null    float64\n",
      " 7   concavity_mean           569 non-null    float64\n",
      " 8   concave points_mean      569 non-null    float64\n",
      " 9   symmetry_mean            569 non-null    float64\n",
      " 10  fractal_dimension_mean   569 non-null    float64\n",
      " 11  radius_se                569 non-null    float64\n",
      " 12  texture_se               569 non-null    float64\n",
      " 13  perimeter_se             569 non-null    float64\n",
      " 14  area_se                  569 non-null    float64\n",
      " 15  smoothness_se            569 non-null    float64\n",
      " 16  compactness_se           569 non-null    float64\n",
      " 17  concavity_se             569 non-null    float64\n",
      " 18  concave points_se        569 non-null    float64\n",
      " 19  symmetry_se              569 non-null    float64\n",
      " 20  fractal_dimension_se     569 non-null    float64\n",
      " 21  radius_worst             569 non-null    float64\n",
      " 22  texture_worst            569 non-null    float64\n",
      " 23  perimeter_worst          569 non-null    float64\n",
      " 24  area_worst               569 non-null    float64\n",
      " 25  smoothness_worst         569 non-null    float64\n",
      " 26  compactness_wors         569 non-null    float64\n",
      " 27  concavity_worst          569 non-null    float64\n",
      " 28  concave points_worst     569 non-null    float64\n",
      " 29  symmetry_worst           569 non-null    float64\n",
      " 30  fractal_dimension_worst  569 non-null    float64\n",
      "dtypes: float64(30), object(1)\n",
      "memory usage: 137.9+ KB\n"
     ]
    }
   ],
   "source": [
    "df_cancerdata.info()"
   ]
  },
  {
   "cell_type": "markdown",
   "metadata": {},
   "source": [
    "here  just diagnosis is categorical then all variables is numerical variables."
   ]
  },
  {
   "cell_type": "markdown",
   "metadata": {},
   "source": [
    "# Checking missing values"
   ]
  },
  {
   "cell_type": "code",
   "execution_count": 15,
   "metadata": {},
   "outputs": [
    {
     "data": {
      "text/plain": [
       "diagnosis                  0\n",
       "radius_mean                0\n",
       "texture_mean               0\n",
       "perimeter_mean             0\n",
       "area_mean                  0\n",
       "smoothness_mean            0\n",
       "compactness_mean           0\n",
       "concavity_mean             0\n",
       "concave points_mean        0\n",
       "symmetry_mean              0\n",
       "fractal_dimension_mean     0\n",
       "radius_se                  0\n",
       "texture_se                 0\n",
       "perimeter_se               0\n",
       "area_se                    0\n",
       "smoothness_se              0\n",
       "compactness_se             0\n",
       "concavity_se               0\n",
       "concave points_se          0\n",
       "symmetry_se                0\n",
       "fractal_dimension_se       0\n",
       "radius_worst               0\n",
       "texture_worst              0\n",
       "perimeter_worst            0\n",
       "area_worst                 0\n",
       "smoothness_worst           0\n",
       "compactness_wors           0\n",
       "concavity_worst            0\n",
       "concave points_worst       0\n",
       "symmetry_worst             0\n",
       "fractal_dimension_worst    0\n",
       "dtype: int64"
      ]
     },
     "execution_count": 15,
     "metadata": {},
     "output_type": "execute_result"
    }
   ],
   "source": [
    "# check for null values\n",
    "df_cancerdata.isnull().sum()"
   ]
  },
  {
   "cell_type": "markdown",
   "metadata": {},
   "source": [
    "# Summary Statistic"
   ]
  },
  {
   "cell_type": "markdown",
   "metadata": {},
   "source": [
    "Here we take a look at the summary of each attributes"
   ]
  },
  {
   "cell_type": "code",
   "execution_count": 16,
   "metadata": {},
   "outputs": [
    {
     "data": {
      "text/html": [
       "<div>\n",
       "<style scoped>\n",
       "    .dataframe tbody tr th:only-of-type {\n",
       "        vertical-align: middle;\n",
       "    }\n",
       "\n",
       "    .dataframe tbody tr th {\n",
       "        vertical-align: top;\n",
       "    }\n",
       "\n",
       "    .dataframe thead th {\n",
       "        text-align: right;\n",
       "    }\n",
       "</style>\n",
       "<table border=\"1\" class=\"dataframe\">\n",
       "  <thead>\n",
       "    <tr style=\"text-align: right;\">\n",
       "      <th></th>\n",
       "      <th>radius_mean</th>\n",
       "      <th>texture_mean</th>\n",
       "      <th>perimeter_mean</th>\n",
       "      <th>area_mean</th>\n",
       "      <th>smoothness_mean</th>\n",
       "      <th>compactness_mean</th>\n",
       "      <th>concavity_mean</th>\n",
       "      <th>concave points_mean</th>\n",
       "      <th>symmetry_mean</th>\n",
       "      <th>fractal_dimension_mean</th>\n",
       "      <th>...</th>\n",
       "      <th>radius_worst</th>\n",
       "      <th>texture_worst</th>\n",
       "      <th>perimeter_worst</th>\n",
       "      <th>area_worst</th>\n",
       "      <th>smoothness_worst</th>\n",
       "      <th>compactness_wors</th>\n",
       "      <th>concavity_worst</th>\n",
       "      <th>concave points_worst</th>\n",
       "      <th>symmetry_worst</th>\n",
       "      <th>fractal_dimension_worst</th>\n",
       "    </tr>\n",
       "  </thead>\n",
       "  <tbody>\n",
       "    <tr>\n",
       "      <th>count</th>\n",
       "      <td>569.000000</td>\n",
       "      <td>569.000000</td>\n",
       "      <td>569.000000</td>\n",
       "      <td>569.000000</td>\n",
       "      <td>569.000000</td>\n",
       "      <td>569.000000</td>\n",
       "      <td>569.000000</td>\n",
       "      <td>569.000000</td>\n",
       "      <td>569.000000</td>\n",
       "      <td>569.000000</td>\n",
       "      <td>...</td>\n",
       "      <td>569.000000</td>\n",
       "      <td>569.000000</td>\n",
       "      <td>569.000000</td>\n",
       "      <td>569.000000</td>\n",
       "      <td>569.000000</td>\n",
       "      <td>569.000000</td>\n",
       "      <td>569.000000</td>\n",
       "      <td>569.000000</td>\n",
       "      <td>569.000000</td>\n",
       "      <td>569.000000</td>\n",
       "    </tr>\n",
       "    <tr>\n",
       "      <th>mean</th>\n",
       "      <td>14.157073</td>\n",
       "      <td>19.025699</td>\n",
       "      <td>91.969033</td>\n",
       "      <td>654.889104</td>\n",
       "      <td>0.095887</td>\n",
       "      <td>0.106397</td>\n",
       "      <td>0.092388</td>\n",
       "      <td>0.048655</td>\n",
       "      <td>0.179979</td>\n",
       "      <td>0.063291</td>\n",
       "      <td>...</td>\n",
       "      <td>16.269190</td>\n",
       "      <td>25.677223</td>\n",
       "      <td>107.261213</td>\n",
       "      <td>880.583128</td>\n",
       "      <td>0.132369</td>\n",
       "      <td>0.243948</td>\n",
       "      <td>0.272188</td>\n",
       "      <td>0.122288</td>\n",
       "      <td>0.290076</td>\n",
       "      <td>0.082584</td>\n",
       "    </tr>\n",
       "    <tr>\n",
       "      <th>std</th>\n",
       "      <td>3.435295</td>\n",
       "      <td>4.515361</td>\n",
       "      <td>24.298981</td>\n",
       "      <td>351.914129</td>\n",
       "      <td>0.013778</td>\n",
       "      <td>0.051773</td>\n",
       "      <td>0.082573</td>\n",
       "      <td>0.042227</td>\n",
       "      <td>0.026742</td>\n",
       "      <td>0.006770</td>\n",
       "      <td>...</td>\n",
       "      <td>4.833242</td>\n",
       "      <td>6.146258</td>\n",
       "      <td>33.602542</td>\n",
       "      <td>569.356993</td>\n",
       "      <td>0.022832</td>\n",
       "      <td>0.156127</td>\n",
       "      <td>0.208624</td>\n",
       "      <td>0.064848</td>\n",
       "      <td>0.061867</td>\n",
       "      <td>0.018546</td>\n",
       "    </tr>\n",
       "    <tr>\n",
       "      <th>min</th>\n",
       "      <td>2.174108</td>\n",
       "      <td>5.225685</td>\n",
       "      <td>43.790000</td>\n",
       "      <td>143.500000</td>\n",
       "      <td>0.045915</td>\n",
       "      <td>-0.055431</td>\n",
       "      <td>-0.156186</td>\n",
       "      <td>-0.078615</td>\n",
       "      <td>0.103582</td>\n",
       "      <td>0.041265</td>\n",
       "      <td>...</td>\n",
       "      <td>7.930000</td>\n",
       "      <td>12.020000</td>\n",
       "      <td>50.410000</td>\n",
       "      <td>185.200000</td>\n",
       "      <td>0.071170</td>\n",
       "      <td>-0.198310</td>\n",
       "      <td>0.000000</td>\n",
       "      <td>-0.133583</td>\n",
       "      <td>0.156500</td>\n",
       "      <td>0.031090</td>\n",
       "    </tr>\n",
       "    <tr>\n",
       "      <th>25%</th>\n",
       "      <td>11.762811</td>\n",
       "      <td>15.926529</td>\n",
       "      <td>75.170000</td>\n",
       "      <td>420.300000</td>\n",
       "      <td>0.085801</td>\n",
       "      <td>0.070217</td>\n",
       "      <td>0.037784</td>\n",
       "      <td>0.020214</td>\n",
       "      <td>0.162974</td>\n",
       "      <td>0.058996</td>\n",
       "      <td>...</td>\n",
       "      <td>13.010000</td>\n",
       "      <td>21.080000</td>\n",
       "      <td>84.110000</td>\n",
       "      <td>515.300000</td>\n",
       "      <td>0.116600</td>\n",
       "      <td>0.130946</td>\n",
       "      <td>0.114500</td>\n",
       "      <td>0.077446</td>\n",
       "      <td>0.250400</td>\n",
       "      <td>0.068561</td>\n",
       "    </tr>\n",
       "    <tr>\n",
       "      <th>50%</th>\n",
       "      <td>14.142920</td>\n",
       "      <td>19.135095</td>\n",
       "      <td>86.240000</td>\n",
       "      <td>551.100000</td>\n",
       "      <td>0.096244</td>\n",
       "      <td>0.105569</td>\n",
       "      <td>0.093832</td>\n",
       "      <td>0.048666</td>\n",
       "      <td>0.179796</td>\n",
       "      <td>0.062821</td>\n",
       "      <td>...</td>\n",
       "      <td>14.970000</td>\n",
       "      <td>25.410000</td>\n",
       "      <td>97.660000</td>\n",
       "      <td>686.500000</td>\n",
       "      <td>0.131300</td>\n",
       "      <td>0.237884</td>\n",
       "      <td>0.226700</td>\n",
       "      <td>0.120702</td>\n",
       "      <td>0.282200</td>\n",
       "      <td>0.082181</td>\n",
       "    </tr>\n",
       "    <tr>\n",
       "      <th>75%</th>\n",
       "      <td>16.403557</td>\n",
       "      <td>22.060029</td>\n",
       "      <td>104.100000</td>\n",
       "      <td>782.700000</td>\n",
       "      <td>0.105867</td>\n",
       "      <td>0.143065</td>\n",
       "      <td>0.148154</td>\n",
       "      <td>0.077010</td>\n",
       "      <td>0.198569</td>\n",
       "      <td>0.067782</td>\n",
       "      <td>...</td>\n",
       "      <td>18.790000</td>\n",
       "      <td>29.720000</td>\n",
       "      <td>125.400000</td>\n",
       "      <td>1084.000000</td>\n",
       "      <td>0.146000</td>\n",
       "      <td>0.345980</td>\n",
       "      <td>0.382900</td>\n",
       "      <td>0.162843</td>\n",
       "      <td>0.317900</td>\n",
       "      <td>0.094202</td>\n",
       "    </tr>\n",
       "    <tr>\n",
       "      <th>max</th>\n",
       "      <td>24.961616</td>\n",
       "      <td>31.692291</td>\n",
       "      <td>188.500000</td>\n",
       "      <td>2501.000000</td>\n",
       "      <td>0.144596</td>\n",
       "      <td>0.248430</td>\n",
       "      <td>0.335120</td>\n",
       "      <td>0.189527</td>\n",
       "      <td>0.261135</td>\n",
       "      <td>0.087951</td>\n",
       "      <td>...</td>\n",
       "      <td>36.040000</td>\n",
       "      <td>49.540000</td>\n",
       "      <td>251.200000</td>\n",
       "      <td>4254.000000</td>\n",
       "      <td>0.222600</td>\n",
       "      <td>0.693251</td>\n",
       "      <td>1.252000</td>\n",
       "      <td>0.313149</td>\n",
       "      <td>0.663800</td>\n",
       "      <td>0.140263</td>\n",
       "    </tr>\n",
       "  </tbody>\n",
       "</table>\n",
       "<p>8 rows × 30 columns</p>\n",
       "</div>"
      ],
      "text/plain": [
       "       radius_mean  texture_mean  perimeter_mean    area_mean  \\\n",
       "count   569.000000    569.000000      569.000000   569.000000   \n",
       "mean     14.157073     19.025699       91.969033   654.889104   \n",
       "std       3.435295      4.515361       24.298981   351.914129   \n",
       "min       2.174108      5.225685       43.790000   143.500000   \n",
       "25%      11.762811     15.926529       75.170000   420.300000   \n",
       "50%      14.142920     19.135095       86.240000   551.100000   \n",
       "75%      16.403557     22.060029      104.100000   782.700000   \n",
       "max      24.961616     31.692291      188.500000  2501.000000   \n",
       "\n",
       "       smoothness_mean  compactness_mean  concavity_mean  concave points_mean  \\\n",
       "count       569.000000        569.000000      569.000000           569.000000   \n",
       "mean          0.095887          0.106397        0.092388             0.048655   \n",
       "std           0.013778          0.051773        0.082573             0.042227   \n",
       "min           0.045915         -0.055431       -0.156186            -0.078615   \n",
       "25%           0.085801          0.070217        0.037784             0.020214   \n",
       "50%           0.096244          0.105569        0.093832             0.048666   \n",
       "75%           0.105867          0.143065        0.148154             0.077010   \n",
       "max           0.144596          0.248430        0.335120             0.189527   \n",
       "\n",
       "       symmetry_mean  fractal_dimension_mean  ...  radius_worst  \\\n",
       "count     569.000000              569.000000  ...    569.000000   \n",
       "mean        0.179979                0.063291  ...     16.269190   \n",
       "std         0.026742                0.006770  ...      4.833242   \n",
       "min         0.103582                0.041265  ...      7.930000   \n",
       "25%         0.162974                0.058996  ...     13.010000   \n",
       "50%         0.179796                0.062821  ...     14.970000   \n",
       "75%         0.198569                0.067782  ...     18.790000   \n",
       "max         0.261135                0.087951  ...     36.040000   \n",
       "\n",
       "       texture_worst  perimeter_worst   area_worst  smoothness_worst  \\\n",
       "count     569.000000       569.000000   569.000000        569.000000   \n",
       "mean       25.677223       107.261213   880.583128          0.132369   \n",
       "std         6.146258        33.602542   569.356993          0.022832   \n",
       "min        12.020000        50.410000   185.200000          0.071170   \n",
       "25%        21.080000        84.110000   515.300000          0.116600   \n",
       "50%        25.410000        97.660000   686.500000          0.131300   \n",
       "75%        29.720000       125.400000  1084.000000          0.146000   \n",
       "max        49.540000       251.200000  4254.000000          0.222600   \n",
       "\n",
       "       compactness_wors  concavity_worst  concave points_worst  \\\n",
       "count        569.000000       569.000000            569.000000   \n",
       "mean           0.243948         0.272188              0.122288   \n",
       "std            0.156127         0.208624              0.064848   \n",
       "min           -0.198310         0.000000             -0.133583   \n",
       "25%            0.130946         0.114500              0.077446   \n",
       "50%            0.237884         0.226700              0.120702   \n",
       "75%            0.345980         0.382900              0.162843   \n",
       "max            0.693251         1.252000              0.313149   \n",
       "\n",
       "       symmetry_worst  fractal_dimension_worst  \n",
       "count      569.000000               569.000000  \n",
       "mean         0.290076                 0.082584  \n",
       "std          0.061867                 0.018546  \n",
       "min          0.156500                 0.031090  \n",
       "25%          0.250400                 0.068561  \n",
       "50%          0.282200                 0.082181  \n",
       "75%          0.317900                 0.094202  \n",
       "max          0.663800                 0.140263  \n",
       "\n",
       "[8 rows x 30 columns]"
      ]
     },
     "execution_count": 16,
     "metadata": {},
     "output_type": "execute_result"
    }
   ],
   "source": [
    "# To get summary statistic of data\n",
    "df_cancerdata.describe()\n"
   ]
  },
  {
   "cell_type": "code",
   "execution_count": 17,
   "metadata": {},
   "outputs": [
    {
     "data": {
      "text/plain": [
       "<matplotlib.axes._subplots.AxesSubplot at 0x21073a506d0>"
      ]
     },
     "execution_count": 17,
     "metadata": {},
     "output_type": "execute_result"
    },
    {
     "data": {
      "image/png": "[encoded data removed]",
      "text/plain": [
       "<Figure size 432x288 with 1 Axes>"
      ]
     },
     "metadata": {
      "needs_background": "light"
     },
     "output_type": "display_data"
    }
   ],
   "source": [
    "sns.boxplot(x='diagnosis', y='texture_mean', data=df_cancerdata, palette='Set1')\n",
    "\n",
    "# this will not shows any significant."
   ]
  },
  {
   "cell_type": "code",
   "execution_count": 18,
   "metadata": {},
   "outputs": [
    {
     "data": {
      "text/plain": [
       "<matplotlib.axes._subplots.AxesSubplot at 0x210741f7940>"
      ]
     },
     "execution_count": 18,
     "metadata": {},
     "output_type": "execute_result"
    },
    {
     "data": {
      "image/png": "[encoded data removed]",
      "text/plain": [
       "<Figure size 432x288 with 1 Axes>"
      ]
     },
     "metadata": {
      "needs_background": "light"
     },
     "output_type": "display_data"
    }
   ],
   "source": [
    "sns.boxplot(x='diagnosis', y='perimeter_mean', data=df_cancerdata, palette='Set1')\n"
   ]
  },
  {
   "cell_type": "markdown",
   "metadata": {},
   "source": [
    "The perimeter_mean of all the cases where the tissue was found to be malignant the median mean is around 120 and wherever it\n",
    "was benign the perimeter median was somewhere around 80. it will shows very significant."
   ]
  },
  {
   "cell_type": "code",
   "execution_count": 19,
   "metadata": {},
   "outputs": [
    {
     "data": {
      "text/plain": [
       "<matplotlib.axes._subplots.AxesSubplot at 0x2107426eca0>"
      ]
     },
     "execution_count": 19,
     "metadata": {},
     "output_type": "execute_result"
    },
    {
     "data": {
      "image/png": "[encoded data removed]",
      "text/plain": [
       "<Figure size 432x288 with 1 Axes>"
      ]
     },
     "metadata": {
      "needs_background": "light"
     },
     "output_type": "display_data"
    }
   ],
   "source": [
    "sns.boxplot(x='diagnosis', y='area_mean', data=df_cancerdata, palette='Set1')\n"
   ]
  },
  {
   "cell_type": "code",
   "execution_count": 20,
   "metadata": {},
   "outputs": [
    {
     "data": {
      "text/plain": [
       "<matplotlib.axes._subplots.AxesSubplot at 0x210742dbc10>"
      ]
     },
     "execution_count": 20,
     "metadata": {},
     "output_type": "execute_result"
    },
    {
     "data": {
      "image/png": "[encoded data removed]",
      "text/plain": [
       "<Figure size 432x288 with 1 Axes>"
      ]
     },
     "metadata": {
      "needs_background": "light"
     },
     "output_type": "display_data"
    }
   ],
   "source": [
    "sns.boxplot(x='diagnosis', y='smoothness_mean', data=df_cancerdata, palette='Set1')\n"
   ]
  },
  {
   "cell_type": "code",
   "execution_count": 21,
   "metadata": {},
   "outputs": [
    {
     "data": {
      "text/plain": [
       "<matplotlib.axes._subplots.AxesSubplot at 0x21074341af0>"
      ]
     },
     "execution_count": 21,
     "metadata": {},
     "output_type": "execute_result"
    },
    {
     "data": {
      "image/png": "[encoded data removed]",
      "text/plain": [
       "<Figure size 432x288 with 1 Axes>"
      ]
     },
     "metadata": {
      "needs_background": "light"
     },
     "output_type": "display_data"
    }
   ],
   "source": [
    "sns.boxplot(x='diagnosis', y='compactness_mean', data=df_cancerdata, palette='Set1')\n"
   ]
  },
  {
   "cell_type": "code",
   "execution_count": 22,
   "metadata": {},
   "outputs": [
    {
     "data": {
      "text/plain": [
       "<matplotlib.axes._subplots.AxesSubplot at 0x210743b2760>"
      ]
     },
     "execution_count": 22,
     "metadata": {},
     "output_type": "execute_result"
    },
    {
     "data": {
      "image/png": "[encoded data removed]",
      "text/plain": [
       "<Figure size 432x288 with 1 Axes>"
      ]
     },
     "metadata": {
      "needs_background": "light"
     },
     "output_type": "display_data"
    }
   ],
   "source": [
    "sns.boxplot(x='diagnosis', y='perimeter_se', data=df_cancerdata, palette='Set1')\n"
   ]
  },
  {
   "cell_type": "markdown",
   "metadata": {},
   "source": [
    "# Convert diagnosis value of M and B to a numerical value"
   ]
  },
  {
   "cell_type": "code",
   "execution_count": 23,
   "metadata": {},
   "outputs": [],
   "source": [
    "# change M & B\n",
    "def diagnosis_value(diagnosis):\n",
    "    if diagnosis == 'M':\n",
    "        return 1\n",
    "    else:\n",
    "        return 0\n",
    "    \n",
    "df_cancerdata['diagnosis'] = df_cancerdata['diagnosis'].apply(diagnosis_value)\n"
   ]
  },
  {
   "cell_type": "markdown",
   "metadata": {},
   "source": [
    "# Splitting the data: training and test"
   ]
  },
  {
   "cell_type": "code",
   "execution_count": 24,
   "metadata": {},
   "outputs": [],
   "source": [
    "# Train-Test-Split\n",
    "from sklearn.model_selection import train_test_split\n",
    "X = df_cancerdata.drop(['diagnosis'], axis=1) \n",
    "                                               \n",
    "Y = df_cancerdata['diagnosis'] \n",
    "x_train, x_test, y_train, y_test = train_test_split(X,Y, test_size = 0.33, random_state = 42)\n"
   ]
  },
  {
   "cell_type": "markdown",
   "metadata": {},
   "source": [
    "# KNN implementation"
   ]
  },
  {
   "cell_type": "markdown",
   "metadata": {},
   "source": [
    "Now we are fitting KNN algorithm on training data, predicting labels for dataset and printing the accuracy of the model for \n",
    "different values of K"
   ]
  },
  {
   "cell_type": "code",
   "execution_count": 27,
   "metadata": {},
   "outputs": [
    {
     "name": "stdout",
     "output_type": "stream",
     "text": [
      "Accuracy is 93.08510638297872 % for K-Value: 1\n",
      "Accuracy is 94.14893617021278 % for K-Value: 2\n",
      "Accuracy is 93.08510638297872 % for K-Value: 3\n",
      "Accuracy is 93.61702127659575 % for K-Value: 4\n",
      "Accuracy is 94.68085106382979 % for K-Value: 5\n",
      "Accuracy is 95.74468085106383 % for K-Value: 6\n",
      "Accuracy is 96.80851063829788 % for K-Value: 7\n",
      "Accuracy is 96.80851063829788 % for K-Value: 8\n",
      "Accuracy is 96.80851063829788 % for K-Value: 9\n",
      "Accuracy is 96.27659574468085 % for K-Value: 10\n",
      "Accuracy is 97.87234042553192 % for K-Value: 11\n",
      "Accuracy is 97.3404255319149 % for K-Value: 12\n",
      "Accuracy is 96.80851063829788 % for K-Value: 13\n",
      "Accuracy is 96.80851063829788 % for K-Value: 14\n",
      "Accuracy is 96.80851063829788 % for K-Value: 15\n",
      "Accuracy is 96.80851063829788 % for K-Value: 16\n",
      "Accuracy is 96.80851063829788 % for K-Value: 17\n",
      "Accuracy is 96.80851063829788 % for K-Value: 18\n",
      "Accuracy is 96.80851063829788 % for K-Value: 19\n",
      "Accuracy is 95.74468085106383 % for K-Value: 20\n",
      "Accuracy is 96.27659574468085 % for K-Value: 21\n",
      "Accuracy is 96.27659574468085 % for K-Value: 22\n",
      "Accuracy is 96.27659574468085 % for K-Value: 23\n",
      "Accuracy is 95.2127659574468 % for K-Value: 24\n",
      "Accuracy is 95.2127659574468 % for K-Value: 25\n"
     ]
    }
   ],
   "source": [
    "# Create KNN model\n",
    "from sklearn.neighbors import KNeighborsClassifier\n",
    "from sklearn.metrics import accuracy_score\n",
    "for K in range(25):\n",
    "    k_value = K+1\n",
    "    neigh = KNeighborsClassifier(n_neighbors = k_value, weights='uniform',algorithm='auto')\n",
    "    neigh.fit(x_train,y_train)\n",
    "    y_pred = neigh.predict(x_test)\n",
    "    print('Accuracy is',accuracy_score(y_test,y_pred)*100,'% for K-Value:',k_value)\n"
   ]
  },
  {
   "cell_type": "markdown",
   "metadata": {},
   "source": [
    "It shows that we are getting highest accuracy 97.87 on k=11.\n",
    "here the value of k=5 is 94.68 and k=13 is 96.80 and we can also go with 97.87 or 97.34."
   ]
  },
  {
   "cell_type": "markdown",
   "metadata": {},
   "source": [
    "# Optimizing the number of neighbor using cross validation"
   ]
  },
  {
   "cell_type": "code",
   "execution_count": 28,
   "metadata": {},
   "outputs": [],
   "source": [
    "# Performing cross validation\n",
    "neighbors = []\n",
    "cv_scores = []\n",
    "from sklearn.model_selection import cross_val_score\n",
    "\n",
    "# perform 10 fold cross validation\n",
    "for k in range(1,51,2):\n",
    "    neighbors.append(k)\n",
    "    knn = KNeighborsClassifier(n_neighbors = k)\n",
    "    scores = cross_val_score(knn,x_train,y_train,cv=10, scoring = 'accuracy')\n",
    "    cv_scores.append(scores.mean())\n"
   ]
  },
  {
   "cell_type": "markdown",
   "metadata": {},
   "source": [
    "# Misclassification Error"
   ]
  },
  {
   "cell_type": "code",
   "execution_count": 29,
   "metadata": {},
   "outputs": [
    {
     "name": "stdout",
     "output_type": "stream",
     "text": [
      "The optimal number of neighbors is 5\n"
     ]
    }
   ],
   "source": [
    "# Misclassification error versus k\n",
    "MSE = [1-x for x in cv_scores]\n",
    "\n",
    "# determining the best k\n",
    "optimal_k = neighbors[MSE.index(min(MSE))]\n",
    "print('The optimal number of neighbors is %d' %optimal_k)\n"
   ]
  },
  {
   "cell_type": "code",
   "execution_count": 30,
   "metadata": {},
   "outputs": [
    {
     "data": {
      "image/png": "[encoded data removed]",
      "text/plain": [
       "<Figure size 1080x432 with 1 Axes>"
      ]
     },
     "metadata": {
      "needs_background": "light"
     },
     "output_type": "display_data"
    }
   ],
   "source": [
    "# plot misclassification error versus k\n",
    "plt.figure(figsize = (15,6))\n",
    "plt.plot(neighbors,MSE)\n",
    "plt.xlabel('Number of neighbors')\n",
    "plt.ylabel('Misclassification Error')\n",
    "plt.show()"
   ]
  },
  {
   "cell_type": "markdown",
   "metadata": {},
   "source": [
    "In this plot it is also shows that for the first time the misclassification error touches the minimum value at k=5. And the\n",
    "second instance where this misclassification error touches the minimum point somewhere 13. So if we take k=5 it is going\n",
    "to be very very localize response So we are trying to do is we are increase the value of k and still we have the same \n",
    "misclassification error the error rate remain same but we are able to more generalize our output. So we will go with the \n",
    "value of k=13. Here we are considering the k=13 value for create the model and do the prediction."
   ]
  },
  {
   "cell_type": "code",
   "execution_count": 31,
   "metadata": {},
   "outputs": [
    {
     "name": "stdout",
     "output_type": "stream",
     "text": [
      "Accuracy is 93.08510638297872 % for K-Value: 1\n",
      "Accuracy is 94.14893617021278 % for K-Value: 2\n",
      "Accuracy is 93.08510638297872 % for K-Value: 3\n",
      "Accuracy is 93.61702127659575 % for K-Value: 4\n",
      "Accuracy is 94.68085106382979 % for K-Value: 5\n",
      "Accuracy is 95.74468085106383 % for K-Value: 6\n",
      "Accuracy is 96.80851063829788 % for K-Value: 7\n",
      "Accuracy is 96.80851063829788 % for K-Value: 8\n",
      "Accuracy is 96.80851063829788 % for K-Value: 9\n",
      "Accuracy is 96.27659574468085 % for K-Value: 10\n",
      "Accuracy is 97.87234042553192 % for K-Value: 11\n",
      "Accuracy is 97.3404255319149 % for K-Value: 12\n",
      "Accuracy is 96.80851063829788 % for K-Value: 13\n",
      "Accuracy is 96.80851063829788 % for K-Value: 14\n",
      "Accuracy is 96.80851063829788 % for K-Value: 15\n",
      "Accuracy is 96.80851063829788 % for K-Value: 16\n",
      "Accuracy is 96.80851063829788 % for K-Value: 17\n",
      "Accuracy is 96.80851063829788 % for K-Value: 18\n",
      "Accuracy is 96.80851063829788 % for K-Value: 19\n",
      "Accuracy is 95.74468085106383 % for K-Value: 20\n",
      "Accuracy is 96.27659574468085 % for K-Value: 21\n",
      "Accuracy is 96.27659574468085 % for K-Value: 22\n",
      "Accuracy is 96.27659574468085 % for K-Value: 23\n",
      "Accuracy is 95.2127659574468 % for K-Value: 24\n",
      "Accuracy is 95.2127659574468 % for K-Value: 25\n"
     ]
    }
   ],
   "source": [
    "# Create KNN model\n",
    "from sklearn.neighbors import KNeighborsClassifier\n",
    "from sklearn.metrics import accuracy_score\n",
    "for K in range(25):\n",
    "    k_value = K+1\n",
    "    neigh = KNeighborsClassifier(n_neighbors = k_value, weights='uniform',algorithm='auto')\n",
    "    neigh.fit(x_train,y_train)\n",
    "    y_pred = neigh.predict(x_test)\n",
    "    print('Accuracy is',accuracy_score(y_test,y_pred)*100,'% for K-Value:',k_value)\n"
   ]
  },
  {
   "cell_type": "markdown",
   "metadata": {},
   "source": [
    "In Accuracy the when the k=11 the accuracy is highest. it is 97.87. So we are going with KNN model with 11 neighbors and \n",
    "carrying out the final prediction."
   ]
  },
  {
   "cell_type": "code",
   "execution_count": 33,
   "metadata": {},
   "outputs": [],
   "source": [
    "neigh = KNeighborsClassifier(n_neighbors = 11, weights='uniform',algorithm='auto')"
   ]
  },
  {
   "cell_type": "code",
   "execution_count": 34,
   "metadata": {},
   "outputs": [
    {
     "data": {
      "text/plain": [
       "KNeighborsClassifier(n_neighbors=11)"
      ]
     },
     "execution_count": 34,
     "metadata": {},
     "output_type": "execute_result"
    }
   ],
   "source": [
    "neigh.fit(x_train, y_train)"
   ]
  },
  {
   "cell_type": "code",
   "execution_count": 35,
   "metadata": {},
   "outputs": [
    {
     "data": {
      "text/plain": [
       "array([0, 1, 1, 0, 0, 1, 1, 1, 0, 0, 0, 1, 0, 1, 0, 1, 0, 0, 0, 1, 1, 0,\n",
       "       1, 0, 0, 0, 0, 0, 0, 1, 0, 0, 0, 0, 0, 0, 1, 0, 1, 0, 0, 1, 0, 0,\n",
       "       0, 0, 0, 0, 0, 0, 1, 1, 0, 0, 0, 0, 0, 1, 0, 0, 0, 1, 1, 0, 0, 0,\n",
       "       1, 1, 0, 0, 1, 1, 0, 1, 0, 0, 0, 1, 0, 0, 1, 0, 0, 1, 1, 1, 1, 1,\n",
       "       0, 0, 0, 0, 0, 0, 0, 0, 1, 1, 0, 1, 1, 0, 1, 1, 0, 0, 0, 1, 0, 0,\n",
       "       1, 0, 0, 1, 0, 1, 0, 0, 0, 1, 0, 0, 0, 1, 0, 1, 1, 0, 0, 1, 1, 1,\n",
       "       0, 0, 1, 1, 0, 0, 0, 1, 0, 1, 0, 0, 1, 0, 1, 1, 1, 0, 1, 0, 0, 0,\n",
       "       0, 1, 1, 0, 0, 0, 0, 0, 0, 0, 1, 0, 0, 0, 0, 0, 0, 0, 0, 0, 0, 0,\n",
       "       1, 0, 0, 0, 0, 0, 0, 1, 1, 1, 0, 0], dtype=int64)"
      ]
     },
     "execution_count": 35,
     "metadata": {},
     "output_type": "execute_result"
    }
   ],
   "source": [
    "y_pred = neigh.predict(x_test)\n",
    "\n",
    "y_pred"
   ]
  },
  {
   "cell_type": "code",
   "execution_count": null,
   "metadata": {},
   "outputs": [],
   "source": []
  }
 ],
 "metadata": {
  "kernelspec": {
   "display_name": "Python 3",
   "language": "python",
   "name": "python3"
  },
  "language_info": {
   "codemirror_mode": {
    "name": "ipython",
    "version": 3
   },
   "file_extension": ".py",
   "mimetype": "text/x-python",
   "name": "python",
   "nbconvert_exporter": "python",
   "pygments_lexer": "ipython3",
   "version": "3.8.3"
  }
 },
 "nbformat": 4,
 "nbformat_minor": 4
}
