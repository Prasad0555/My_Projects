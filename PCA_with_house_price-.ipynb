{
 "cells": [
  {
   "cell_type": "code",
   "execution_count": 1,
   "metadata": {},
   "outputs": [],
   "source": [
    "import pandas as pd   \n",
    "import matplotlib.pyplot as plt \n",
    "import seaborn as sns  \n",
    "import numpy as np\n",
    "from scipy.stats import norm\n",
    "from sklearn.preprocessing import StandardScaler  \n",
    "from scipy import stats\n",
    "import warnings\n",
    "warnings.filterwarnings ('ignore')\n",
    "%matplotlib inline"
   ]
  },
  {
   "cell_type": "markdown",
   "metadata": {},
   "source": [
    "# setting the working directory"
   ]
  },
  {
   "cell_type": "code",
   "execution_count": 2,
   "metadata": {},
   "outputs": [],
   "source": [
    "import os as os "
   ]
  },
  {
   "cell_type": "code",
   "execution_count": 3,
   "metadata": {},
   "outputs": [],
   "source": [
    "os.chdir(\"C:\\\\Users\\\\MyPC\\\\Desktop\\\\Project 7 Python\")"
   ]
  },
  {
   "cell_type": "code",
   "execution_count": 4,
   "metadata": {},
   "outputs": [
    {
     "data": {
      "text/plain": [
       "'C:\\\\Users\\\\MyPC\\\\Desktop\\\\Project 7 Python'"
      ]
     },
     "execution_count": 4,
     "metadata": {},
     "output_type": "execute_result"
    }
   ],
   "source": [
    "os.getcwd()"
   ]
  },
  {
   "cell_type": "code",
   "execution_count": 5,
   "metadata": {},
   "outputs": [
    {
     "data": {
      "text/plain": [
       "['house_price.csv', 'Problem Statement.docx']"
      ]
     },
     "execution_count": 5,
     "metadata": {},
     "output_type": "execute_result"
    }
   ],
   "source": [
    "os.listdir()"
   ]
  },
  {
   "cell_type": "markdown",
   "metadata": {},
   "source": [
    "# Load the dataset"
   ]
  },
  {
   "cell_type": "code",
   "execution_count": 6,
   "metadata": {},
   "outputs": [],
   "source": [
    "df_house_price= pd.read_csv('house_price.csv')"
   ]
  },
  {
   "cell_type": "code",
   "execution_count": null,
   "metadata": {},
   "outputs": [],
   "source": []
  },
  {
   "cell_type": "code",
   "execution_count": 7,
   "metadata": {},
   "outputs": [
    {
     "data": {
      "text/html": [
       "<div>\n",
       "<style scoped>\n",
       "    .dataframe tbody tr th:only-of-type {\n",
       "        vertical-align: middle;\n",
       "    }\n",
       "\n",
       "    .dataframe tbody tr th {\n",
       "        vertical-align: top;\n",
       "    }\n",
       "\n",
       "    .dataframe thead th {\n",
       "        text-align: right;\n",
       "    }\n",
       "</style>\n",
       "<table border=\"1\" class=\"dataframe\">\n",
       "  <thead>\n",
       "    <tr style=\"text-align: right;\">\n",
       "      <th></th>\n",
       "      <th>Id</th>\n",
       "      <th>MSSubClass</th>\n",
       "      <th>MSZoning</th>\n",
       "      <th>LotFrontage</th>\n",
       "      <th>LotArea</th>\n",
       "      <th>Street</th>\n",
       "      <th>Alley</th>\n",
       "      <th>LotShape</th>\n",
       "      <th>LandContour</th>\n",
       "      <th>Utilities</th>\n",
       "      <th>...</th>\n",
       "      <th>PoolArea</th>\n",
       "      <th>PoolQC</th>\n",
       "      <th>Fence</th>\n",
       "      <th>MiscFeature</th>\n",
       "      <th>MiscVal</th>\n",
       "      <th>MoSold</th>\n",
       "      <th>YrSold</th>\n",
       "      <th>SaleType</th>\n",
       "      <th>SaleCondition</th>\n",
       "      <th>SalePrice</th>\n",
       "    </tr>\n",
       "  </thead>\n",
       "  <tbody>\n",
       "    <tr>\n",
       "      <th>0</th>\n",
       "      <td>1</td>\n",
       "      <td>60</td>\n",
       "      <td>RL</td>\n",
       "      <td>65.0</td>\n",
       "      <td>8450</td>\n",
       "      <td>Pave</td>\n",
       "      <td>NaN</td>\n",
       "      <td>Reg</td>\n",
       "      <td>Lvl</td>\n",
       "      <td>AllPub</td>\n",
       "      <td>...</td>\n",
       "      <td>0</td>\n",
       "      <td>NaN</td>\n",
       "      <td>NaN</td>\n",
       "      <td>NaN</td>\n",
       "      <td>0</td>\n",
       "      <td>2</td>\n",
       "      <td>2008</td>\n",
       "      <td>WD</td>\n",
       "      <td>Normal</td>\n",
       "      <td>208500</td>\n",
       "    </tr>\n",
       "    <tr>\n",
       "      <th>1</th>\n",
       "      <td>2</td>\n",
       "      <td>20</td>\n",
       "      <td>RL</td>\n",
       "      <td>80.0</td>\n",
       "      <td>9600</td>\n",
       "      <td>Pave</td>\n",
       "      <td>NaN</td>\n",
       "      <td>Reg</td>\n",
       "      <td>Lvl</td>\n",
       "      <td>AllPub</td>\n",
       "      <td>...</td>\n",
       "      <td>0</td>\n",
       "      <td>NaN</td>\n",
       "      <td>NaN</td>\n",
       "      <td>NaN</td>\n",
       "      <td>0</td>\n",
       "      <td>5</td>\n",
       "      <td>2007</td>\n",
       "      <td>WD</td>\n",
       "      <td>Normal</td>\n",
       "      <td>181500</td>\n",
       "    </tr>\n",
       "    <tr>\n",
       "      <th>2</th>\n",
       "      <td>3</td>\n",
       "      <td>60</td>\n",
       "      <td>RL</td>\n",
       "      <td>68.0</td>\n",
       "      <td>11250</td>\n",
       "      <td>Pave</td>\n",
       "      <td>NaN</td>\n",
       "      <td>IR1</td>\n",
       "      <td>Lvl</td>\n",
       "      <td>AllPub</td>\n",
       "      <td>...</td>\n",
       "      <td>0</td>\n",
       "      <td>NaN</td>\n",
       "      <td>NaN</td>\n",
       "      <td>NaN</td>\n",
       "      <td>0</td>\n",
       "      <td>9</td>\n",
       "      <td>2008</td>\n",
       "      <td>WD</td>\n",
       "      <td>Normal</td>\n",
       "      <td>223500</td>\n",
       "    </tr>\n",
       "    <tr>\n",
       "      <th>3</th>\n",
       "      <td>4</td>\n",
       "      <td>70</td>\n",
       "      <td>RL</td>\n",
       "      <td>60.0</td>\n",
       "      <td>9550</td>\n",
       "      <td>Pave</td>\n",
       "      <td>NaN</td>\n",
       "      <td>IR1</td>\n",
       "      <td>Lvl</td>\n",
       "      <td>AllPub</td>\n",
       "      <td>...</td>\n",
       "      <td>0</td>\n",
       "      <td>NaN</td>\n",
       "      <td>NaN</td>\n",
       "      <td>NaN</td>\n",
       "      <td>0</td>\n",
       "      <td>2</td>\n",
       "      <td>2006</td>\n",
       "      <td>WD</td>\n",
       "      <td>Abnorml</td>\n",
       "      <td>140000</td>\n",
       "    </tr>\n",
       "    <tr>\n",
       "      <th>4</th>\n",
       "      <td>5</td>\n",
       "      <td>60</td>\n",
       "      <td>RL</td>\n",
       "      <td>84.0</td>\n",
       "      <td>14260</td>\n",
       "      <td>Pave</td>\n",
       "      <td>NaN</td>\n",
       "      <td>IR1</td>\n",
       "      <td>Lvl</td>\n",
       "      <td>AllPub</td>\n",
       "      <td>...</td>\n",
       "      <td>0</td>\n",
       "      <td>NaN</td>\n",
       "      <td>NaN</td>\n",
       "      <td>NaN</td>\n",
       "      <td>0</td>\n",
       "      <td>12</td>\n",
       "      <td>2008</td>\n",
       "      <td>WD</td>\n",
       "      <td>Normal</td>\n",
       "      <td>250000</td>\n",
       "    </tr>\n",
       "  </tbody>\n",
       "</table>\n",
       "<p>5 rows × 81 columns</p>\n",
       "</div>"
      ],
      "text/plain": [
       "   Id  MSSubClass MSZoning  LotFrontage  LotArea Street Alley LotShape  \\\n",
       "0   1          60       RL         65.0     8450   Pave   NaN      Reg   \n",
       "1   2          20       RL         80.0     9600   Pave   NaN      Reg   \n",
       "2   3          60       RL         68.0    11250   Pave   NaN      IR1   \n",
       "3   4          70       RL         60.0     9550   Pave   NaN      IR1   \n",
       "4   5          60       RL         84.0    14260   Pave   NaN      IR1   \n",
       "\n",
       "  LandContour Utilities  ... PoolArea PoolQC Fence MiscFeature MiscVal MoSold  \\\n",
       "0         Lvl    AllPub  ...        0    NaN   NaN         NaN       0      2   \n",
       "1         Lvl    AllPub  ...        0    NaN   NaN         NaN       0      5   \n",
       "2         Lvl    AllPub  ...        0    NaN   NaN         NaN       0      9   \n",
       "3         Lvl    AllPub  ...        0    NaN   NaN         NaN       0      2   \n",
       "4         Lvl    AllPub  ...        0    NaN   NaN         NaN       0     12   \n",
       "\n",
       "  YrSold  SaleType  SaleCondition  SalePrice  \n",
       "0   2008        WD         Normal     208500  \n",
       "1   2007        WD         Normal     181500  \n",
       "2   2008        WD         Normal     223500  \n",
       "3   2006        WD        Abnorml     140000  \n",
       "4   2008        WD         Normal     250000  \n",
       "\n",
       "[5 rows x 81 columns]"
      ]
     },
     "execution_count": 7,
     "metadata": {},
     "output_type": "execute_result"
    }
   ],
   "source": [
    "df_house_price.head()"
   ]
  },
  {
   "cell_type": "markdown",
   "metadata": {},
   "source": [
    "# Exploratory data analysis"
   ]
  },
  {
   "cell_type": "code",
   "execution_count": 8,
   "metadata": {},
   "outputs": [
    {
     "data": {
      "text/plain": [
       "Index(['Id', 'MSSubClass', 'MSZoning', 'LotFrontage', 'LotArea', 'Street',\n",
       "       'Alley', 'LotShape', 'LandContour', 'Utilities', 'LotConfig',\n",
       "       'LandSlope', 'Neighborhood', 'Condition1', 'Condition2', 'BldgType',\n",
       "       'HouseStyle', 'OverallQual', 'OverallCond', 'YearBuilt', 'YearRemodAdd',\n",
       "       'RoofStyle', 'RoofMatl', 'Exterior1st', 'Exterior2nd', 'MasVnrType',\n",
       "       'MasVnrArea', 'ExterQual', 'ExterCond', 'Foundation', 'BsmtQual',\n",
       "       'BsmtCond', 'BsmtExposure', 'BsmtFinType1', 'BsmtFinSF1',\n",
       "       'BsmtFinType2', 'BsmtFinSF2', 'BsmtUnfSF', 'TotalBsmtSF', 'Heating',\n",
       "       'HeatingQC', 'CentralAir', 'Electrical', '1stFlrSF', '2ndFlrSF',\n",
       "       'LowQualFinSF', 'GrLivArea', 'BsmtFullBath', 'BsmtHalfBath', 'FullBath',\n",
       "       'HalfBath', 'BedroomAbvGr', 'KitchenAbvGr', 'KitchenQual',\n",
       "       'TotRmsAbvGrd', 'Functional', 'Fireplaces', 'FireplaceQu', 'GarageType',\n",
       "       'GarageYrBlt', 'GarageFinish', 'GarageCars', 'GarageArea', 'GarageQual',\n",
       "       'GarageCond', 'PavedDrive', 'WoodDeckSF', 'OpenPorchSF',\n",
       "       'EnclosedPorch', '3SsnPorch', 'ScreenPorch', 'PoolArea', 'PoolQC',\n",
       "       'Fence', 'MiscFeature', 'MiscVal', 'MoSold', 'YrSold', 'SaleType',\n",
       "       'SaleCondition', 'SalePrice'],\n",
       "      dtype='object')"
      ]
     },
     "execution_count": 8,
     "metadata": {},
     "output_type": "execute_result"
    }
   ],
   "source": [
    "df_house_price.columns"
   ]
  },
  {
   "cell_type": "code",
   "execution_count": 9,
   "metadata": {},
   "outputs": [
    {
     "data": {
      "text/plain": [
       "(1460, 81)"
      ]
     },
     "execution_count": 9,
     "metadata": {},
     "output_type": "execute_result"
    }
   ],
   "source": [
    "df_house_price.shape"
   ]
  },
  {
   "cell_type": "markdown",
   "metadata": {},
   "source": [
    "df_house_price has 81 columns (79 features + id and target sale price) 1460 entries(number of rows and house sales)"
   ]
  },
  {
   "cell_type": "code",
   "execution_count": 10,
   "metadata": {},
   "outputs": [
    {
     "name": "stdout",
     "output_type": "stream",
     "text": [
      "Number of Numerical features:  38\n",
      "Number of Categorical features:  43\n"
     ]
    }
   ],
   "source": [
    "numerical_var= df_house_price.dtypes[df_house_price.dtypes != \"object\"].index  \n",
    "                                                            \n",
    "print(\"Number of Numerical features: \", len(numerical_var))\n",
    "\n",
    "\n",
    "categorical_var= df_house_price.dtypes[df_house_price.dtypes == \"object\"]      \n",
    "                                                            \n",
    "print(\"Number of Categorical features: \", len(categorical_var))\n",
    "\n"
   ]
  },
  {
   "cell_type": "markdown",
   "metadata": {},
   "source": [
    "The main check points would be the correlation between the numeric variables and target variable with multicollinearity."
   ]
  },
  {
   "cell_type": "code",
   "execution_count": 11,
   "metadata": {},
   "outputs": [
    {
     "data": {
      "image/png": "[encoded data removed]",
      "text/plain": [
       "<Figure size 1440x864 with 2 Axes>"
      ]
     },
     "metadata": {
      "needs_background": "light"
     },
     "output_type": "display_data"
    }
   ],
   "source": [
    "# filter numeric column only\n",
    "data_num = df_house_price[numerical_var]\n",
    "\n",
    "# calculating correlation among numeric variable\n",
    "corr_matrix = data_num.corr()\n",
    "\n",
    "# filter correlation values above 0.5\n",
    "filter_corr = corr_matrix[corr_matrix > 0.5] \n",
    "\n",
    "# plot correlation matrix\n",
    "plt.figure(figsize=(20,12))\n",
    "sns.heatmap(filter_corr,\n",
    "            cmap='coolwarm',\n",
    "            annot=True);"
   ]
  },
  {
   "cell_type": "markdown",
   "metadata": {},
   "source": [
    "# Sale price"
   ]
  },
  {
   "cell_type": "code",
   "execution_count": 12,
   "metadata": {},
   "outputs": [
    {
     "data": {
      "text/plain": [
       "<matplotlib.axes._subplots.AxesSubplot at 0x2a10255b0d0>"
      ]
     },
     "execution_count": 12,
     "metadata": {},
     "output_type": "execute_result"
    },
    {
     "data": {
      "image/png": "[encoded data removed]",
      "text/plain": [
       "<Figure size 432x288 with 1 Axes>"
      ]
     },
     "metadata": {
      "needs_background": "light"
     },
     "output_type": "display_data"
    }
   ],
   "source": [
    "sns.distplot(df_house_price['SalePrice'])"
   ]
  },
  {
   "cell_type": "markdown",
   "metadata": {},
   "source": [
    "From the above result, We can say that values of \"SalePrice\" are not a normal distribution. It is positively skewed.\n",
    "A few people have very expensive house."
   ]
  },
  {
   "cell_type": "markdown",
   "metadata": {},
   "source": [
    "# Relationship with numerical variables"
   ]
  },
  {
   "cell_type": "markdown",
   "metadata": {},
   "source": [
    "# Overall Quality"
   ]
  },
  {
   "cell_type": "code",
   "execution_count": 13,
   "metadata": {},
   "outputs": [
    {
     "data": {
      "image/png": "[encoded data removed]",
      "text/plain": [
       "<Figure size 432x288 with 1 Axes>"
      ]
     },
     "metadata": {
      "needs_background": "light"
     },
     "output_type": "display_data"
    }
   ],
   "source": [
    "# scatter plot Overall Quality/saleprice\n",
    "data= pd.concat([df_house_price[\"SalePrice\"], df_house_price[\"OverallQual\"]], axis=1)\n",
    "data.plot.scatter(x=\"OverallQual\", y=\"SalePrice\", ylim=(0,800000));\n"
   ]
  },
  {
   "cell_type": "markdown",
   "metadata": {},
   "source": [
    "From the above result, We can say that the price of the house will be when the overall quality of the house is high. We can \n",
    "notice that for the same quality different price. Why? \"SalePrice\" is correlated with other variables and \"OverallQual\" might\n",
    "be correlated with other variables."
   ]
  },
  {
   "cell_type": "markdown",
   "metadata": {},
   "source": [
    "# Year Built"
   ]
  },
  {
   "cell_type": "code",
   "execution_count": 14,
   "metadata": {},
   "outputs": [
    {
     "data": {
      "image/png": "[encoded data removed]",
      "text/plain": [
       "<Figure size 432x288 with 1 Axes>"
      ]
     },
     "metadata": {
      "needs_background": "light"
     },
     "output_type": "display_data"
    }
   ],
   "source": [
    "# scatter plot YearBuilt/saleprice\n",
    "data = pd.concat([df_house_price[\"SalePrice\"], df_house_price[\"YearBuilt\"]], axis=1)\n",
    "data.plot.scatter(x=\"YearBuilt\", y=\"SalePrice\", ylim=(0,800000));"
   ]
  },
  {
   "cell_type": "markdown",
   "metadata": {},
   "source": [
    "From the above plot, we can observe that the price of a house is comparatively more than the house was built recently. We also\n",
    "can notice that there are some outlier which means even if the house is too old. The price of the house is moderately high due\n",
    "to influences of other variables."
   ]
  },
  {
   "cell_type": "markdown",
   "metadata": {},
   "source": [
    "# Ground Living Area"
   ]
  },
  {
   "cell_type": "code",
   "execution_count": 15,
   "metadata": {},
   "outputs": [
    {
     "data": {
      "image/png": "[encoded data removed]",
      "text/plain": [
       "<Figure size 432x288 with 1 Axes>"
      ]
     },
     "metadata": {
      "needs_background": "light"
     },
     "output_type": "display_data"
    }
   ],
   "source": [
    "# scatter plot ground living area/saleprice\n",
    "data = pd.concat([df_house_price[\"SalePrice\"], df_house_price[\"GrLivArea\"]], axis=1)\n",
    "data.plot.scatter(x=\"GrLivArea\", y=\"SalePrice\", ylim=(0,800000));"
   ]
  },
  {
   "cell_type": "markdown",
   "metadata": {},
   "source": [
    "While the size of the ground living area is increasing, the price of the houses is increasing. But even if the ground living \n",
    "area is high, the price of the house is low and when the ground living area is high, the price of the house is too high. Why?\n",
    "\n",
    "We know the influence of other variables affects the price change of house.\n",
    "\n",
    "When \"GrLivArea\" of a house is highly correlated with other variables, the price of the house is increasing and when \"GrLivArea\"\n",
    "of a house is not highly correlated with other variables, the price of the house is decreasing."
   ]
  },
  {
   "cell_type": "markdown",
   "metadata": {},
   "source": [
    "# TotalBsmtSF"
   ]
  },
  {
   "cell_type": "code",
   "execution_count": 16,
   "metadata": {},
   "outputs": [
    {
     "data": {
      "image/png": "[encoded data removed]",
      "text/plain": [
       "<Figure size 432x288 with 1 Axes>"
      ]
     },
     "metadata": {
      "needs_background": "light"
     },
     "output_type": "display_data"
    }
   ],
   "source": [
    "data = pd.concat([df_house_price[\"SalePrice\"], df_house_price[\"TotalBsmtSF\"]], axis=1)\n",
    "data.plot.scatter(x=\"TotalBsmtSF\", y=\"SalePrice\", ylim=(0,800000));\n",
    "\n"
   ]
  },
  {
   "cell_type": "markdown",
   "metadata": {},
   "source": [
    "We can notice that\"SalePrice\" and \"TotalBsmtSF\" is with a linear relationship. We can see the value of \"SalePrice\" is going \n",
    "straight when the value of \"TotalBsmtSF\" is 0. Total Square feet of basement area of a house is high but the price of the house\n",
    "is low due to the influence of other variables. There are some houses which dont have Bsmt."
   ]
  },
  {
   "cell_type": "markdown",
   "metadata": {},
   "source": [
    "# Visualizing categorical variables with \"SalePrice\"\n"
   ]
  },
  {
   "cell_type": "markdown",
   "metadata": {},
   "source": [
    "# House Style"
   ]
  },
  {
   "cell_type": "code",
   "execution_count": 17,
   "metadata": {},
   "outputs": [
    {
     "data": {
      "text/plain": [
       "<matplotlib.axes._subplots.AxesSubplot at 0x2a102b1a7c0>"
      ]
     },
     "execution_count": 17,
     "metadata": {},
     "output_type": "execute_result"
    },
    {
     "data": {
      "image/png": "[encoded data removed]",
      "text/plain": [
       "<Figure size 576x576 with 1 Axes>"
      ]
     },
     "metadata": {
      "needs_background": "light"
     },
     "output_type": "display_data"
    }
   ],
   "source": [
    "df_house_price.boxplot(column=\"SalePrice\",   \n",
    "                      by= \"HouseStyle\",           \n",
    "                      figsize= (8,8))\n"
   ]
  },
  {
   "cell_type": "markdown",
   "metadata": {},
   "source": [
    "# Foundation"
   ]
  },
  {
   "cell_type": "code",
   "execution_count": 18,
   "metadata": {},
   "outputs": [
    {
     "data": {
      "text/plain": [
       "<matplotlib.axes._subplots.AxesSubplot at 0x2a102aa46a0>"
      ]
     },
     "execution_count": 18,
     "metadata": {},
     "output_type": "execute_result"
    },
    {
     "data": {
      "image/png": "[encoded data removed]",
      "text/plain": [
       "<Figure size 576x576 with 1 Axes>"
      ]
     },
     "metadata": {
      "needs_background": "light"
     },
     "output_type": "display_data"
    }
   ],
   "source": [
    "df_house_price.boxplot(column=\"SalePrice\",\n",
    "                      by= \"Foundation\",\n",
    "                      figsize= (8,8))"
   ]
  },
  {
   "cell_type": "markdown",
   "metadata": {},
   "source": [
    "From the above plot, we can observe that if a house has \"Poured Concrete\" foundation, the price of the house is higher than \n",
    "other house prices."
   ]
  },
  {
   "cell_type": "markdown",
   "metadata": {},
   "source": [
    "# Garage Quality"
   ]
  },
  {
   "cell_type": "code",
   "execution_count": 19,
   "metadata": {},
   "outputs": [
    {
     "data": {
      "text/plain": [
       "<matplotlib.axes._subplots.AxesSubplot at 0x2a102a5d1f0>"
      ]
     },
     "execution_count": 19,
     "metadata": {},
     "output_type": "execute_result"
    },
    {
     "data": {
      "image/png": "[encoded data removed]",
      "text/plain": [
       "<Figure size 576x576 with 1 Axes>"
      ]
     },
     "metadata": {
      "needs_background": "light"
     },
     "output_type": "display_data"
    }
   ],
   "source": [
    "df_house_price.boxplot(column=\"SalePrice\",\n",
    "                      by=\"GarageQual\",\n",
    "                      figsize= (8,8))"
   ]
  },
  {
   "cell_type": "markdown",
   "metadata": {},
   "source": [
    "From the above plot, we can observe that if a house has a good garage, the price of the house is higher than other house prices.\n",
    "Some houses have an excellent garage. So the price of this kind of house is higher than all.\n",
    "\n",
    "So far we have compared some variables with the target variable. We observed that what is the variables impact on target variable\n",
    "based EDA. If we want to reduce dimension, we can take only impact variables. This is one kind of way. Now we will use PCA to \n",
    "reduce the dimension of this dataset."
   ]
  },
  {
   "cell_type": "markdown",
   "metadata": {},
   "source": [
    "# Before apply PCA we have to handle missing value."
   ]
  },
  {
   "cell_type": "code",
   "execution_count": 20,
   "metadata": {},
   "outputs": [
    {
     "data": {
      "text/plain": [
       "PoolQC           1453\n",
       "MiscFeature      1406\n",
       "Alley            1369\n",
       "Fence            1179\n",
       "FireplaceQu       690\n",
       "                 ... \n",
       "CentralAir          0\n",
       "SaleCondition       0\n",
       "Heating             0\n",
       "TotalBsmtSF         0\n",
       "Id                  0\n",
       "Length: 81, dtype: int64"
      ]
     },
     "execution_count": 20,
     "metadata": {},
     "output_type": "execute_result"
    }
   ],
   "source": [
    "# missing data\n",
    "total_missing_value = df_house_price.isnull().sum().sort_values(ascending=False)\n",
    "total_missing_value\n"
   ]
  },
  {
   "cell_type": "markdown",
   "metadata": {},
   "source": [
    "# Imputing missing values"
   ]
  },
  {
   "cell_type": "markdown",
   "metadata": {},
   "source": [
    "PooQC: Data discription says NA means \"No Pool\". In this data set, It has huge ratio of missing value (99%) and majority of \n",
    "houses no Pool at all in general."
   ]
  },
  {
   "cell_type": "code",
   "execution_count": 21,
   "metadata": {},
   "outputs": [],
   "source": [
    "df_house_price[\"PoolQC\"] = df_house_price[\"PoolQC\"].fillna(\"None\")\n"
   ]
  },
  {
   "cell_type": "markdown",
   "metadata": {},
   "source": [
    "# Misc Feature"
   ]
  },
  {
   "cell_type": "markdown",
   "metadata": {},
   "source": [
    "Data description says NA means \"no misc feature\""
   ]
  },
  {
   "cell_type": "code",
   "execution_count": 22,
   "metadata": {},
   "outputs": [],
   "source": [
    "df_house_price[\"MiscFeature\"] = df_house_price[\"MiscFeature\"].fillna(\"None\")\n",
    " "
   ]
  },
  {
   "cell_type": "markdown",
   "metadata": {},
   "source": [
    "# Alley"
   ]
  },
  {
   "cell_type": "markdown",
   "metadata": {},
   "source": [
    "Data description says NA means \"no alley access\""
   ]
  },
  {
   "cell_type": "code",
   "execution_count": 23,
   "metadata": {},
   "outputs": [],
   "source": [
    "df_house_price[\"Alley\"] = df_house_price[\"Alley\"].fillna(\"None\")"
   ]
  },
  {
   "cell_type": "markdown",
   "metadata": {},
   "source": [
    "# Fence"
   ]
  },
  {
   "cell_type": "markdown",
   "metadata": {},
   "source": [
    "This column has NA value means \"no fence\""
   ]
  },
  {
   "cell_type": "code",
   "execution_count": 24,
   "metadata": {},
   "outputs": [],
   "source": [
    "df_house_price[\"Fence\"] = df_house_price[\"Fence\"].fillna(\"None\")"
   ]
  },
  {
   "cell_type": "markdown",
   "metadata": {},
   "source": [
    "# FireplaceQu"
   ]
  },
  {
   "cell_type": "markdown",
   "metadata": {},
   "source": [
    "This column has NA value means \"no FireplaceQu\""
   ]
  },
  {
   "cell_type": "code",
   "execution_count": 25,
   "metadata": {},
   "outputs": [],
   "source": [
    "df_house_price[\"FireplaceQu\"] = df_house_price[\"FireplaceQu\"].fillna(\"None\")"
   ]
  },
  {
   "cell_type": "markdown",
   "metadata": {},
   "source": [
    "# LotFrontage"
   ]
  },
  {
   "cell_type": "markdown",
   "metadata": {},
   "source": [
    "The area of each street connected to the house property most likely have a similar area to other houses in its neighbourhood.\n",
    "so we can fill in missing values by the median LotFrontage of the neighborhood."
   ]
  },
  {
   "cell_type": "code",
   "execution_count": 26,
   "metadata": {},
   "outputs": [],
   "source": [
    "df_house_price[\"LotFrontage\"] = df_house_price.groupby(\"Neighborhood\")[\"LotFrontage\"].transform(lambda x: x.fillna(x.median()))\n"
   ]
  },
  {
   "cell_type": "code",
   "execution_count": 27,
   "metadata": {},
   "outputs": [
    {
     "name": "stdout",
     "output_type": "stream",
     "text": [
      "<class 'pandas.core.frame.DataFrame'>\n",
      "RangeIndex: 1460 entries, 0 to 1459\n",
      "Data columns (total 81 columns):\n",
      " #   Column         Non-Null Count  Dtype  \n",
      "---  ------         --------------  -----  \n",
      " 0   Id             1460 non-null   int64  \n",
      " 1   MSSubClass     1460 non-null   int64  \n",
      " 2   MSZoning       1460 non-null   object \n",
      " 3   LotFrontage    1460 non-null   float64\n",
      " 4   LotArea        1460 non-null   int64  \n",
      " 5   Street         1460 non-null   object \n",
      " 6   Alley          1460 non-null   object \n",
      " 7   LotShape       1460 non-null   object \n",
      " 8   LandContour    1460 non-null   object \n",
      " 9   Utilities      1460 non-null   object \n",
      " 10  LotConfig      1460 non-null   object \n",
      " 11  LandSlope      1460 non-null   object \n",
      " 12  Neighborhood   1460 non-null   object \n",
      " 13  Condition1     1460 non-null   object \n",
      " 14  Condition2     1460 non-null   object \n",
      " 15  BldgType       1460 non-null   object \n",
      " 16  HouseStyle     1460 non-null   object \n",
      " 17  OverallQual    1460 non-null   int64  \n",
      " 18  OverallCond    1460 non-null   int64  \n",
      " 19  YearBuilt      1460 non-null   int64  \n",
      " 20  YearRemodAdd   1460 non-null   int64  \n",
      " 21  RoofStyle      1460 non-null   object \n",
      " 22  RoofMatl       1460 non-null   object \n",
      " 23  Exterior1st    1460 non-null   object \n",
      " 24  Exterior2nd    1460 non-null   object \n",
      " 25  MasVnrType     1452 non-null   object \n",
      " 26  MasVnrArea     1452 non-null   float64\n",
      " 27  ExterQual      1460 non-null   object \n",
      " 28  ExterCond      1460 non-null   object \n",
      " 29  Foundation     1460 non-null   object \n",
      " 30  BsmtQual       1423 non-null   object \n",
      " 31  BsmtCond       1423 non-null   object \n",
      " 32  BsmtExposure   1422 non-null   object \n",
      " 33  BsmtFinType1   1423 non-null   object \n",
      " 34  BsmtFinSF1     1460 non-null   int64  \n",
      " 35  BsmtFinType2   1422 non-null   object \n",
      " 36  BsmtFinSF2     1460 non-null   int64  \n",
      " 37  BsmtUnfSF      1460 non-null   int64  \n",
      " 38  TotalBsmtSF    1460 non-null   int64  \n",
      " 39  Heating        1460 non-null   object \n",
      " 40  HeatingQC      1460 non-null   object \n",
      " 41  CentralAir     1460 non-null   object \n",
      " 42  Electrical     1459 non-null   object \n",
      " 43  1stFlrSF       1460 non-null   int64  \n",
      " 44  2ndFlrSF       1460 non-null   int64  \n",
      " 45  LowQualFinSF   1460 non-null   int64  \n",
      " 46  GrLivArea      1460 non-null   int64  \n",
      " 47  BsmtFullBath   1460 non-null   int64  \n",
      " 48  BsmtHalfBath   1460 non-null   int64  \n",
      " 49  FullBath       1460 non-null   int64  \n",
      " 50  HalfBath       1460 non-null   int64  \n",
      " 51  BedroomAbvGr   1460 non-null   int64  \n",
      " 52  KitchenAbvGr   1460 non-null   int64  \n",
      " 53  KitchenQual    1460 non-null   object \n",
      " 54  TotRmsAbvGrd   1460 non-null   int64  \n",
      " 55  Functional     1460 non-null   object \n",
      " 56  Fireplaces     1460 non-null   int64  \n",
      " 57  FireplaceQu    1460 non-null   object \n",
      " 58  GarageType     1379 non-null   object \n",
      " 59  GarageYrBlt    1379 non-null   float64\n",
      " 60  GarageFinish   1379 non-null   object \n",
      " 61  GarageCars     1460 non-null   int64  \n",
      " 62  GarageArea     1460 non-null   int64  \n",
      " 63  GarageQual     1379 non-null   object \n",
      " 64  GarageCond     1379 non-null   object \n",
      " 65  PavedDrive     1460 non-null   object \n",
      " 66  WoodDeckSF     1460 non-null   int64  \n",
      " 67  OpenPorchSF    1460 non-null   int64  \n",
      " 68  EnclosedPorch  1460 non-null   int64  \n",
      " 69  3SsnPorch      1460 non-null   int64  \n",
      " 70  ScreenPorch    1460 non-null   int64  \n",
      " 71  PoolArea       1460 non-null   int64  \n",
      " 72  PoolQC         1460 non-null   object \n",
      " 73  Fence          1460 non-null   object \n",
      " 74  MiscFeature    1460 non-null   object \n",
      " 75  MiscVal        1460 non-null   int64  \n",
      " 76  MoSold         1460 non-null   int64  \n",
      " 77  YrSold         1460 non-null   int64  \n",
      " 78  SaleType       1460 non-null   object \n",
      " 79  SaleCondition  1460 non-null   object \n",
      " 80  SalePrice      1460 non-null   int64  \n",
      "dtypes: float64(3), int64(35), object(43)\n",
      "memory usage: 924.0+ KB\n"
     ]
    }
   ],
   "source": [
    "df_house_price.info()"
   ]
  },
  {
   "cell_type": "markdown",
   "metadata": {},
   "source": [
    "# Garage Type, GarageFinish, GarageQual and GarageCond : Replacing missing data with None"
   ]
  },
  {
   "cell_type": "code",
   "execution_count": 28,
   "metadata": {},
   "outputs": [],
   "source": [
    "for i in ('GarageType', 'GarageFinish', 'GarageQual', 'GarageCond'):\n",
    "    df_house_price[i] = df_house_price[i].fillna('None')\n"
   ]
  },
  {
   "cell_type": "markdown",
   "metadata": {},
   "source": [
    "# GarageYrBlt, GarageArea and GarageCars: Replacing missing data with 0 (Since No garage = no cars in such garage.)"
   ]
  },
  {
   "cell_type": "code",
   "execution_count": 29,
   "metadata": {},
   "outputs": [],
   "source": [
    "for i in ('GarageYrBlt', 'GarageArea', 'GarageCars'):\n",
    "    df_house_price[i] = df_house_price[i].fillna(0)\n"
   ]
  },
  {
   "cell_type": "markdown",
   "metadata": {},
   "source": [
    "BsmtQual, BsmtCond, BsmtExposure, BsmtFinType1 and BsmtFinType2: For all these categorical basement-related features, Nan means\n",
    "that there is no basement."
   ]
  },
  {
   "cell_type": "code",
   "execution_count": 30,
   "metadata": {},
   "outputs": [],
   "source": [
    "for i in ('BsmtQual', 'BsmtCond', 'BsmtExposure', 'BsmtFinType1', 'BsmtFinType2'):\n",
    "    df_house_price[i] = df_house_price[i].fillna('None')\n",
    "    "
   ]
  },
  {
   "cell_type": "markdown",
   "metadata": {},
   "source": [
    "MasVnrArea and MasVnrType: NA most likely means no masonry veneer for these houses. We can fill 0 for the Area and None for \n",
    "the Type."
   ]
  },
  {
   "cell_type": "code",
   "execution_count": 31,
   "metadata": {},
   "outputs": [],
   "source": [
    "df_house_price[\"MasVnrType\"] = df_house_price[\"MasVnrType\"].fillna(\"None\") # categorical variable\n",
    "df_house_price[\"MasVnrArea\"] = df_house_price[\"MasVnrArea\"].fillna(0)      # numeric variable"
   ]
  },
  {
   "cell_type": "markdown",
   "metadata": {},
   "source": [
    "MsZoning(The general zoning classification): 'RL' is by far the most common value. So we can fill in missing values with 'RL'"
   ]
  },
  {
   "cell_type": "code",
   "execution_count": 32,
   "metadata": {},
   "outputs": [
    {
     "name": "stdout",
     "output_type": "stream",
     "text": [
      "<class 'pandas.core.frame.DataFrame'>\n",
      "RangeIndex: 1460 entries, 0 to 1459\n",
      "Data columns (total 81 columns):\n",
      " #   Column         Non-Null Count  Dtype  \n",
      "---  ------         --------------  -----  \n",
      " 0   Id             1460 non-null   int64  \n",
      " 1   MSSubClass     1460 non-null   int64  \n",
      " 2   MSZoning       1460 non-null   object \n",
      " 3   LotFrontage    1460 non-null   float64\n",
      " 4   LotArea        1460 non-null   int64  \n",
      " 5   Street         1460 non-null   object \n",
      " 6   Alley          1460 non-null   object \n",
      " 7   LotShape       1460 non-null   object \n",
      " 8   LandContour    1460 non-null   object \n",
      " 9   Utilities      1460 non-null   object \n",
      " 10  LotConfig      1460 non-null   object \n",
      " 11  LandSlope      1460 non-null   object \n",
      " 12  Neighborhood   1460 non-null   object \n",
      " 13  Condition1     1460 non-null   object \n",
      " 14  Condition2     1460 non-null   object \n",
      " 15  BldgType       1460 non-null   object \n",
      " 16  HouseStyle     1460 non-null   object \n",
      " 17  OverallQual    1460 non-null   int64  \n",
      " 18  OverallCond    1460 non-null   int64  \n",
      " 19  YearBuilt      1460 non-null   int64  \n",
      " 20  YearRemodAdd   1460 non-null   int64  \n",
      " 21  RoofStyle      1460 non-null   object \n",
      " 22  RoofMatl       1460 non-null   object \n",
      " 23  Exterior1st    1460 non-null   object \n",
      " 24  Exterior2nd    1460 non-null   object \n",
      " 25  MasVnrType     1460 non-null   object \n",
      " 26  MasVnrArea     1460 non-null   float64\n",
      " 27  ExterQual      1460 non-null   object \n",
      " 28  ExterCond      1460 non-null   object \n",
      " 29  Foundation     1460 non-null   object \n",
      " 30  BsmtQual       1460 non-null   object \n",
      " 31  BsmtCond       1460 non-null   object \n",
      " 32  BsmtExposure   1460 non-null   object \n",
      " 33  BsmtFinType1   1460 non-null   object \n",
      " 34  BsmtFinSF1     1460 non-null   int64  \n",
      " 35  BsmtFinType2   1460 non-null   object \n",
      " 36  BsmtFinSF2     1460 non-null   int64  \n",
      " 37  BsmtUnfSF      1460 non-null   int64  \n",
      " 38  TotalBsmtSF    1460 non-null   int64  \n",
      " 39  Heating        1460 non-null   object \n",
      " 40  HeatingQC      1460 non-null   object \n",
      " 41  CentralAir     1460 non-null   object \n",
      " 42  Electrical     1459 non-null   object \n",
      " 43  1stFlrSF       1460 non-null   int64  \n",
      " 44  2ndFlrSF       1460 non-null   int64  \n",
      " 45  LowQualFinSF   1460 non-null   int64  \n",
      " 46  GrLivArea      1460 non-null   int64  \n",
      " 47  BsmtFullBath   1460 non-null   int64  \n",
      " 48  BsmtHalfBath   1460 non-null   int64  \n",
      " 49  FullBath       1460 non-null   int64  \n",
      " 50  HalfBath       1460 non-null   int64  \n",
      " 51  BedroomAbvGr   1460 non-null   int64  \n",
      " 52  KitchenAbvGr   1460 non-null   int64  \n",
      " 53  KitchenQual    1460 non-null   object \n",
      " 54  TotRmsAbvGrd   1460 non-null   int64  \n",
      " 55  Functional     1460 non-null   object \n",
      " 56  Fireplaces     1460 non-null   int64  \n",
      " 57  FireplaceQu    1460 non-null   object \n",
      " 58  GarageType     1460 non-null   object \n",
      " 59  GarageYrBlt    1460 non-null   float64\n",
      " 60  GarageFinish   1460 non-null   object \n",
      " 61  GarageCars     1460 non-null   int64  \n",
      " 62  GarageArea     1460 non-null   int64  \n",
      " 63  GarageQual     1460 non-null   object \n",
      " 64  GarageCond     1460 non-null   object \n",
      " 65  PavedDrive     1460 non-null   object \n",
      " 66  WoodDeckSF     1460 non-null   int64  \n",
      " 67  OpenPorchSF    1460 non-null   int64  \n",
      " 68  EnclosedPorch  1460 non-null   int64  \n",
      " 69  3SsnPorch      1460 non-null   int64  \n",
      " 70  ScreenPorch    1460 non-null   int64  \n",
      " 71  PoolArea       1460 non-null   int64  \n",
      " 72  PoolQC         1460 non-null   object \n",
      " 73  Fence          1460 non-null   object \n",
      " 74  MiscFeature    1460 non-null   object \n",
      " 75  MiscVal        1460 non-null   int64  \n",
      " 76  MoSold         1460 non-null   int64  \n",
      " 77  YrSold         1460 non-null   int64  \n",
      " 78  SaleType       1460 non-null   object \n",
      " 79  SaleCondition  1460 non-null   object \n",
      " 80  SalePrice      1460 non-null   int64  \n",
      "dtypes: float64(3), int64(35), object(43)\n",
      "memory usage: 924.0+ KB\n"
     ]
    }
   ],
   "source": [
    "df_house_price.info()"
   ]
  },
  {
   "cell_type": "code",
   "execution_count": 33,
   "metadata": {},
   "outputs": [],
   "source": [
    "df_house_price[\"MSZoning\"] = df_house_price[\"MSZoning\"].fillna(df_house_price[\"MSZoning\"].mode()[0])\n"
   ]
  },
  {
   "cell_type": "code",
   "execution_count": 34,
   "metadata": {},
   "outputs": [
    {
     "data": {
      "text/plain": [
       "0    RL\n",
       "dtype: object"
      ]
     },
     "execution_count": 34,
     "metadata": {},
     "output_type": "execute_result"
    }
   ],
   "source": [
    "df_house_price[\"MSZoning\"].mode()"
   ]
  },
  {
   "cell_type": "code",
   "execution_count": 35,
   "metadata": {},
   "outputs": [
    {
     "data": {
      "text/plain": [
       "'RL'"
      ]
     },
     "execution_count": 35,
     "metadata": {},
     "output_type": "execute_result"
    }
   ],
   "source": [
    "df_house_price[\"MSZoning\"].mode()[0]"
   ]
  },
  {
   "cell_type": "markdown",
   "metadata": {},
   "source": [
    "Utilities: For this categorical feature all records are \"AllPub\", except for one \"NoSeWa\" and 2 NA. Since the house with \n",
    "\"NoSewa\" is in the training set, this feature won't help in predictive modelling. We can then safely remove it."
   ]
  },
  {
   "cell_type": "code",
   "execution_count": 36,
   "metadata": {},
   "outputs": [
    {
     "data": {
      "text/plain": [
       "0       AllPub\n",
       "1       AllPub\n",
       "2       AllPub\n",
       "3       AllPub\n",
       "4       AllPub\n",
       "         ...  \n",
       "1455    AllPub\n",
       "1456    AllPub\n",
       "1457    AllPub\n",
       "1458    AllPub\n",
       "1459    AllPub\n",
       "Name: Utilities, Length: 1460, dtype: object"
      ]
     },
     "execution_count": 36,
     "metadata": {},
     "output_type": "execute_result"
    }
   ],
   "source": [
    "df_house_price.Utilities\n"
   ]
  },
  {
   "cell_type": "code",
   "execution_count": 37,
   "metadata": {},
   "outputs": [],
   "source": [
    "df_house_price = df_house_price.drop(['Utilities'], axis=1)"
   ]
  },
  {
   "cell_type": "markdown",
   "metadata": {},
   "source": [
    "Functional: data description says NA means typecal"
   ]
  },
  {
   "cell_type": "code",
   "execution_count": 38,
   "metadata": {},
   "outputs": [],
   "source": [
    "df_house_price[\"Functional\"] = df_house_price[\"Functional\"].fillna(\"Typ\")"
   ]
  },
  {
   "cell_type": "markdown",
   "metadata": {},
   "source": [
    "Electrical: It has one NA value. Since this feature has mostly 'SBrkr', we can set that for the missing value"
   ]
  },
  {
   "cell_type": "code",
   "execution_count": 39,
   "metadata": {},
   "outputs": [],
   "source": [
    "df_house_price['Electrical'] = df_house_price['Electrical'].fillna(df_house_price['Electrical'].mode()[0])"
   ]
  },
  {
   "cell_type": "markdown",
   "metadata": {},
   "source": [
    "KitchenQual: Only one NA value, and same as Electrical, we set 'TA'(which is the most frequent) for the missing value in KitchenQual."
   ]
  },
  {
   "cell_type": "code",
   "execution_count": 40,
   "metadata": {},
   "outputs": [],
   "source": [
    "df_house_price['KitchenQual'] = df_house_price['KitchenQual'].fillna(df_house_price['KitchenQual'].mode()[0])"
   ]
  },
  {
   "cell_type": "markdown",
   "metadata": {},
   "source": [
    "Exterior1st and Exterior2nd: Again both Exterior 1 & 2 have only one missing value. We will just substitute in the most common string"
   ]
  },
  {
   "cell_type": "code",
   "execution_count": 41,
   "metadata": {},
   "outputs": [],
   "source": [
    "df_house_price['Exterior1st'] = df_house_price['Exterior1st'].fillna(df_house_price['Exterior1st'].mode()[0])\n",
    "df_house_price['Exterior2nd'] = df_house_price['Exterior2nd'].fillna(df_house_price['Exterior2nd'].mode()[0])"
   ]
  },
  {
   "cell_type": "markdown",
   "metadata": {},
   "source": [
    "SaleType: Fill in again with most frequent which is \"WD\""
   ]
  },
  {
   "cell_type": "code",
   "execution_count": 42,
   "metadata": {},
   "outputs": [],
   "source": [
    "df_house_price['SaleType'] = df_house_price['SaleType'].fillna(df_house_price['SaleType'].mode()[0])"
   ]
  },
  {
   "cell_type": "markdown",
   "metadata": {},
   "source": [
    "MSSubClass: Na most likely means No building class. We can replace missing values with None"
   ]
  },
  {
   "cell_type": "code",
   "execution_count": 43,
   "metadata": {},
   "outputs": [],
   "source": [
    "df_house_price['MSSubClass'] = df_house_price['MSSubClass'].fillna(\"None\")"
   ]
  },
  {
   "cell_type": "code",
   "execution_count": 44,
   "metadata": {},
   "outputs": [],
   "source": [
    "categorical_var = df_house_price.dtypes[df_house_price.dtypes == \"object\"]\n"
   ]
  },
  {
   "cell_type": "markdown",
   "metadata": {},
   "source": [
    "Transforming some numerical variables that are really categorical. we will convert those numerical variables into categorical\n",
    "variables, this is important before we proceed with the dummy variable creation. Otherewise it will not treat as these variables\n",
    "as categorical variables and it will treated as numerical variable. "
   ]
  },
  {
   "cell_type": "code",
   "execution_count": 45,
   "metadata": {},
   "outputs": [
    {
     "data": {
      "text/plain": [
       "dtype('int64')"
      ]
     },
     "execution_count": 45,
     "metadata": {},
     "output_type": "execute_result"
    }
   ],
   "source": [
    "df_house_price['OverallCond'].dtype"
   ]
  },
  {
   "cell_type": "markdown",
   "metadata": {},
   "source": [
    "If we take the variable \"OverallCond\" which represents rates the overall condition of the house. so value of this column is from 1to10.\n",
    "\n",
    "        10   very Excellent\n",
    "        9    Excellent\n",
    "        8    Very Good\n",
    "        7    Good\n",
    "        6    Above Average\n",
    "        5    Average\n",
    "        4    Below Average\n",
    "        3    Fair\n",
    "        2    Poor\n",
    "        1    Very Poor\n",
    "        \n",
    "   the datatype of this column is in \"int64\", but it should be in categorical."
   ]
  },
  {
   "cell_type": "code",
   "execution_count": 46,
   "metadata": {},
   "outputs": [
    {
     "data": {
      "text/plain": [
       "0    5\n",
       "1    8\n",
       "2    5\n",
       "3    5\n",
       "4    5\n",
       "5    5\n",
       "6    5\n",
       "7    6\n",
       "8    5\n",
       "9    6\n",
       "Name: OverallCond, dtype: int64"
      ]
     },
     "execution_count": 46,
     "metadata": {},
     "output_type": "execute_result"
    }
   ],
   "source": [
    "df_house_price.OverallCond.head(10)"
   ]
  },
  {
   "cell_type": "code",
   "execution_count": 47,
   "metadata": {},
   "outputs": [],
   "source": [
    "# Changing OverallCond into a categorical variable\n",
    "df_house_price['OverallCond'] = df_house_price['OverallCond'].astype(str)"
   ]
  },
  {
   "cell_type": "code",
   "execution_count": 48,
   "metadata": {},
   "outputs": [],
   "source": [
    "# MSSubClass=The building class\n",
    "df_house_price['MSSubClass'] = df_house_price['MSSubClass'].apply(str)"
   ]
  },
  {
   "cell_type": "code",
   "execution_count": 49,
   "metadata": {},
   "outputs": [],
   "source": [
    "# year and month sold are transformed into categorical features\n",
    "df_house_price['YrSold'] = df_house_price['YrSold'].astype(str)\n",
    "df_house_price['MoSold'] = df_house_price['MoSold'].astype(str)"
   ]
  },
  {
   "cell_type": "markdown",
   "metadata": {},
   "source": [
    "Label Encoding some categorical variables that may contain information in their ordering set"
   ]
  },
  {
   "cell_type": "code",
   "execution_count": 50,
   "metadata": {},
   "outputs": [],
   "source": [
    "from sklearn.preprocessing import LabelEncoder\n",
    "cols = ('FireplaceQu', 'BsmtQual', 'BsmtCond', 'GarageQual', 'GarageCond', \n",
    "        'ExterQual', 'ExterCond','HeatingQC', 'PoolQC', 'KitchenQual', 'BsmtFinType1', \n",
    "        'BsmtFinType2', 'Functional', 'Fence', 'BsmtExposure', 'GarageFinish', 'LandSlope',\n",
    "        'LotShape', 'PavedDrive', 'Street', 'Alley', 'CentralAir', 'MSSubClass', 'OverallCond', \n",
    "        'YrSold', 'MoSold')\n"
   ]
  },
  {
   "cell_type": "code",
   "execution_count": 51,
   "metadata": {},
   "outputs": [],
   "source": [
    "# process columns, apply labelEncoder to categorical features\n",
    "for c in cols:\n",
    "    label_ec = LabelEncoder()\n",
    "    label_ec.fit(list(df_house_price[c].values))\n",
    "    df_house_price[c] = label_ec.transform(list(df_house_price[c].values))\n"
   ]
  },
  {
   "cell_type": "code",
   "execution_count": 52,
   "metadata": {},
   "outputs": [
    {
     "data": {
      "text/html": [
       "<div>\n",
       "<style scoped>\n",
       "    .dataframe tbody tr th:only-of-type {\n",
       "        vertical-align: middle;\n",
       "    }\n",
       "\n",
       "    .dataframe tbody tr th {\n",
       "        vertical-align: top;\n",
       "    }\n",
       "\n",
       "    .dataframe thead th {\n",
       "        text-align: right;\n",
       "    }\n",
       "</style>\n",
       "<table border=\"1\" class=\"dataframe\">\n",
       "  <thead>\n",
       "    <tr style=\"text-align: right;\">\n",
       "      <th></th>\n",
       "      <th>Id</th>\n",
       "      <th>MSSubClass</th>\n",
       "      <th>MSZoning</th>\n",
       "      <th>LotFrontage</th>\n",
       "      <th>LotArea</th>\n",
       "      <th>Street</th>\n",
       "      <th>Alley</th>\n",
       "      <th>LotShape</th>\n",
       "      <th>LandContour</th>\n",
       "      <th>LotConfig</th>\n",
       "      <th>...</th>\n",
       "      <th>PoolArea</th>\n",
       "      <th>PoolQC</th>\n",
       "      <th>Fence</th>\n",
       "      <th>MiscFeature</th>\n",
       "      <th>MiscVal</th>\n",
       "      <th>MoSold</th>\n",
       "      <th>YrSold</th>\n",
       "      <th>SaleType</th>\n",
       "      <th>SaleCondition</th>\n",
       "      <th>SalePrice</th>\n",
       "    </tr>\n",
       "  </thead>\n",
       "  <tbody>\n",
       "    <tr>\n",
       "      <th>0</th>\n",
       "      <td>1</td>\n",
       "      <td>9</td>\n",
       "      <td>RL</td>\n",
       "      <td>65.0</td>\n",
       "      <td>8450</td>\n",
       "      <td>1</td>\n",
       "      <td>1</td>\n",
       "      <td>3</td>\n",
       "      <td>Lvl</td>\n",
       "      <td>Inside</td>\n",
       "      <td>...</td>\n",
       "      <td>0</td>\n",
       "      <td>3</td>\n",
       "      <td>4</td>\n",
       "      <td>None</td>\n",
       "      <td>0</td>\n",
       "      <td>4</td>\n",
       "      <td>2</td>\n",
       "      <td>WD</td>\n",
       "      <td>Normal</td>\n",
       "      <td>208500</td>\n",
       "    </tr>\n",
       "    <tr>\n",
       "      <th>1</th>\n",
       "      <td>2</td>\n",
       "      <td>4</td>\n",
       "      <td>RL</td>\n",
       "      <td>80.0</td>\n",
       "      <td>9600</td>\n",
       "      <td>1</td>\n",
       "      <td>1</td>\n",
       "      <td>3</td>\n",
       "      <td>Lvl</td>\n",
       "      <td>FR2</td>\n",
       "      <td>...</td>\n",
       "      <td>0</td>\n",
       "      <td>3</td>\n",
       "      <td>4</td>\n",
       "      <td>None</td>\n",
       "      <td>0</td>\n",
       "      <td>7</td>\n",
       "      <td>1</td>\n",
       "      <td>WD</td>\n",
       "      <td>Normal</td>\n",
       "      <td>181500</td>\n",
       "    </tr>\n",
       "    <tr>\n",
       "      <th>2</th>\n",
       "      <td>3</td>\n",
       "      <td>9</td>\n",
       "      <td>RL</td>\n",
       "      <td>68.0</td>\n",
       "      <td>11250</td>\n",
       "      <td>1</td>\n",
       "      <td>1</td>\n",
       "      <td>0</td>\n",
       "      <td>Lvl</td>\n",
       "      <td>Inside</td>\n",
       "      <td>...</td>\n",
       "      <td>0</td>\n",
       "      <td>3</td>\n",
       "      <td>4</td>\n",
       "      <td>None</td>\n",
       "      <td>0</td>\n",
       "      <td>11</td>\n",
       "      <td>2</td>\n",
       "      <td>WD</td>\n",
       "      <td>Normal</td>\n",
       "      <td>223500</td>\n",
       "    </tr>\n",
       "    <tr>\n",
       "      <th>3</th>\n",
       "      <td>4</td>\n",
       "      <td>10</td>\n",
       "      <td>RL</td>\n",
       "      <td>60.0</td>\n",
       "      <td>9550</td>\n",
       "      <td>1</td>\n",
       "      <td>1</td>\n",
       "      <td>0</td>\n",
       "      <td>Lvl</td>\n",
       "      <td>Corner</td>\n",
       "      <td>...</td>\n",
       "      <td>0</td>\n",
       "      <td>3</td>\n",
       "      <td>4</td>\n",
       "      <td>None</td>\n",
       "      <td>0</td>\n",
       "      <td>4</td>\n",
       "      <td>0</td>\n",
       "      <td>WD</td>\n",
       "      <td>Abnorml</td>\n",
       "      <td>140000</td>\n",
       "    </tr>\n",
       "    <tr>\n",
       "      <th>4</th>\n",
       "      <td>5</td>\n",
       "      <td>9</td>\n",
       "      <td>RL</td>\n",
       "      <td>84.0</td>\n",
       "      <td>14260</td>\n",
       "      <td>1</td>\n",
       "      <td>1</td>\n",
       "      <td>0</td>\n",
       "      <td>Lvl</td>\n",
       "      <td>FR2</td>\n",
       "      <td>...</td>\n",
       "      <td>0</td>\n",
       "      <td>3</td>\n",
       "      <td>4</td>\n",
       "      <td>None</td>\n",
       "      <td>0</td>\n",
       "      <td>3</td>\n",
       "      <td>2</td>\n",
       "      <td>WD</td>\n",
       "      <td>Normal</td>\n",
       "      <td>250000</td>\n",
       "    </tr>\n",
       "    <tr>\n",
       "      <th>5</th>\n",
       "      <td>6</td>\n",
       "      <td>8</td>\n",
       "      <td>RL</td>\n",
       "      <td>85.0</td>\n",
       "      <td>14115</td>\n",
       "      <td>1</td>\n",
       "      <td>1</td>\n",
       "      <td>0</td>\n",
       "      <td>Lvl</td>\n",
       "      <td>Inside</td>\n",
       "      <td>...</td>\n",
       "      <td>0</td>\n",
       "      <td>3</td>\n",
       "      <td>2</td>\n",
       "      <td>Shed</td>\n",
       "      <td>700</td>\n",
       "      <td>1</td>\n",
       "      <td>3</td>\n",
       "      <td>WD</td>\n",
       "      <td>Normal</td>\n",
       "      <td>143000</td>\n",
       "    </tr>\n",
       "    <tr>\n",
       "      <th>6</th>\n",
       "      <td>7</td>\n",
       "      <td>4</td>\n",
       "      <td>RL</td>\n",
       "      <td>75.0</td>\n",
       "      <td>10084</td>\n",
       "      <td>1</td>\n",
       "      <td>1</td>\n",
       "      <td>3</td>\n",
       "      <td>Lvl</td>\n",
       "      <td>Inside</td>\n",
       "      <td>...</td>\n",
       "      <td>0</td>\n",
       "      <td>3</td>\n",
       "      <td>4</td>\n",
       "      <td>None</td>\n",
       "      <td>0</td>\n",
       "      <td>10</td>\n",
       "      <td>1</td>\n",
       "      <td>WD</td>\n",
       "      <td>Normal</td>\n",
       "      <td>307000</td>\n",
       "    </tr>\n",
       "    <tr>\n",
       "      <th>7</th>\n",
       "      <td>8</td>\n",
       "      <td>9</td>\n",
       "      <td>RL</td>\n",
       "      <td>80.0</td>\n",
       "      <td>10382</td>\n",
       "      <td>1</td>\n",
       "      <td>1</td>\n",
       "      <td>0</td>\n",
       "      <td>Lvl</td>\n",
       "      <td>Corner</td>\n",
       "      <td>...</td>\n",
       "      <td>0</td>\n",
       "      <td>3</td>\n",
       "      <td>4</td>\n",
       "      <td>Shed</td>\n",
       "      <td>350</td>\n",
       "      <td>2</td>\n",
       "      <td>3</td>\n",
       "      <td>WD</td>\n",
       "      <td>Normal</td>\n",
       "      <td>200000</td>\n",
       "    </tr>\n",
       "    <tr>\n",
       "      <th>8</th>\n",
       "      <td>9</td>\n",
       "      <td>8</td>\n",
       "      <td>RM</td>\n",
       "      <td>51.0</td>\n",
       "      <td>6120</td>\n",
       "      <td>1</td>\n",
       "      <td>1</td>\n",
       "      <td>3</td>\n",
       "      <td>Lvl</td>\n",
       "      <td>Inside</td>\n",
       "      <td>...</td>\n",
       "      <td>0</td>\n",
       "      <td>3</td>\n",
       "      <td>4</td>\n",
       "      <td>None</td>\n",
       "      <td>0</td>\n",
       "      <td>6</td>\n",
       "      <td>2</td>\n",
       "      <td>WD</td>\n",
       "      <td>Abnorml</td>\n",
       "      <td>129900</td>\n",
       "    </tr>\n",
       "    <tr>\n",
       "      <th>9</th>\n",
       "      <td>10</td>\n",
       "      <td>3</td>\n",
       "      <td>RL</td>\n",
       "      <td>50.0</td>\n",
       "      <td>7420</td>\n",
       "      <td>1</td>\n",
       "      <td>1</td>\n",
       "      <td>3</td>\n",
       "      <td>Lvl</td>\n",
       "      <td>Corner</td>\n",
       "      <td>...</td>\n",
       "      <td>0</td>\n",
       "      <td>3</td>\n",
       "      <td>4</td>\n",
       "      <td>None</td>\n",
       "      <td>0</td>\n",
       "      <td>0</td>\n",
       "      <td>2</td>\n",
       "      <td>WD</td>\n",
       "      <td>Normal</td>\n",
       "      <td>118000</td>\n",
       "    </tr>\n",
       "  </tbody>\n",
       "</table>\n",
       "<p>10 rows × 80 columns</p>\n",
       "</div>"
      ],
      "text/plain": [
       "   Id  MSSubClass MSZoning  LotFrontage  LotArea  Street  Alley  LotShape  \\\n",
       "0   1           9       RL         65.0     8450       1      1         3   \n",
       "1   2           4       RL         80.0     9600       1      1         3   \n",
       "2   3           9       RL         68.0    11250       1      1         0   \n",
       "3   4          10       RL         60.0     9550       1      1         0   \n",
       "4   5           9       RL         84.0    14260       1      1         0   \n",
       "5   6           8       RL         85.0    14115       1      1         0   \n",
       "6   7           4       RL         75.0    10084       1      1         3   \n",
       "7   8           9       RL         80.0    10382       1      1         0   \n",
       "8   9           8       RM         51.0     6120       1      1         3   \n",
       "9  10           3       RL         50.0     7420       1      1         3   \n",
       "\n",
       "  LandContour LotConfig  ...  PoolArea PoolQC Fence MiscFeature MiscVal  \\\n",
       "0         Lvl    Inside  ...         0      3     4        None       0   \n",
       "1         Lvl       FR2  ...         0      3     4        None       0   \n",
       "2         Lvl    Inside  ...         0      3     4        None       0   \n",
       "3         Lvl    Corner  ...         0      3     4        None       0   \n",
       "4         Lvl       FR2  ...         0      3     4        None       0   \n",
       "5         Lvl    Inside  ...         0      3     2        Shed     700   \n",
       "6         Lvl    Inside  ...         0      3     4        None       0   \n",
       "7         Lvl    Corner  ...         0      3     4        Shed     350   \n",
       "8         Lvl    Inside  ...         0      3     4        None       0   \n",
       "9         Lvl    Corner  ...         0      3     4        None       0   \n",
       "\n",
       "  MoSold  YrSold  SaleType  SaleCondition  SalePrice  \n",
       "0      4       2        WD         Normal     208500  \n",
       "1      7       1        WD         Normal     181500  \n",
       "2     11       2        WD         Normal     223500  \n",
       "3      4       0        WD        Abnorml     140000  \n",
       "4      3       2        WD         Normal     250000  \n",
       "5      1       3        WD         Normal     143000  \n",
       "6     10       1        WD         Normal     307000  \n",
       "7      2       3        WD         Normal     200000  \n",
       "8      6       2        WD        Abnorml     129900  \n",
       "9      0       2        WD         Normal     118000  \n",
       "\n",
       "[10 rows x 80 columns]"
      ]
     },
     "execution_count": 52,
     "metadata": {},
     "output_type": "execute_result"
    }
   ],
   "source": [
    "df_house_price.head(10)"
   ]
  },
  {
   "cell_type": "code",
   "execution_count": 53,
   "metadata": {},
   "outputs": [
    {
     "name": "stdout",
     "output_type": "stream",
     "text": [
      "(1460, 222)\n"
     ]
    }
   ],
   "source": [
    "df_house_price = pd.get_dummies(df_house_price)\n",
    "print(df_house_price.shape)\n"
   ]
  },
  {
   "cell_type": "code",
   "execution_count": 54,
   "metadata": {},
   "outputs": [
    {
     "data": {
      "text/html": [
       "<div>\n",
       "<style scoped>\n",
       "    .dataframe tbody tr th:only-of-type {\n",
       "        vertical-align: middle;\n",
       "    }\n",
       "\n",
       "    .dataframe tbody tr th {\n",
       "        vertical-align: top;\n",
       "    }\n",
       "\n",
       "    .dataframe thead th {\n",
       "        text-align: right;\n",
       "    }\n",
       "</style>\n",
       "<table border=\"1\" class=\"dataframe\">\n",
       "  <thead>\n",
       "    <tr style=\"text-align: right;\">\n",
       "      <th></th>\n",
       "      <th>Id</th>\n",
       "      <th>MSSubClass</th>\n",
       "      <th>LotFrontage</th>\n",
       "      <th>LotArea</th>\n",
       "      <th>Street</th>\n",
       "      <th>Alley</th>\n",
       "      <th>LotShape</th>\n",
       "      <th>LandSlope</th>\n",
       "      <th>OverallQual</th>\n",
       "      <th>OverallCond</th>\n",
       "      <th>...</th>\n",
       "      <th>SaleType_ConLw</th>\n",
       "      <th>SaleType_New</th>\n",
       "      <th>SaleType_Oth</th>\n",
       "      <th>SaleType_WD</th>\n",
       "      <th>SaleCondition_Abnorml</th>\n",
       "      <th>SaleCondition_AdjLand</th>\n",
       "      <th>SaleCondition_Alloca</th>\n",
       "      <th>SaleCondition_Family</th>\n",
       "      <th>SaleCondition_Normal</th>\n",
       "      <th>SaleCondition_Partial</th>\n",
       "    </tr>\n",
       "  </thead>\n",
       "  <tbody>\n",
       "    <tr>\n",
       "      <th>0</th>\n",
       "      <td>1</td>\n",
       "      <td>9</td>\n",
       "      <td>65.0</td>\n",
       "      <td>8450</td>\n",
       "      <td>1</td>\n",
       "      <td>1</td>\n",
       "      <td>3</td>\n",
       "      <td>0</td>\n",
       "      <td>7</td>\n",
       "      <td>4</td>\n",
       "      <td>...</td>\n",
       "      <td>0</td>\n",
       "      <td>0</td>\n",
       "      <td>0</td>\n",
       "      <td>1</td>\n",
       "      <td>0</td>\n",
       "      <td>0</td>\n",
       "      <td>0</td>\n",
       "      <td>0</td>\n",
       "      <td>1</td>\n",
       "      <td>0</td>\n",
       "    </tr>\n",
       "    <tr>\n",
       "      <th>1</th>\n",
       "      <td>2</td>\n",
       "      <td>4</td>\n",
       "      <td>80.0</td>\n",
       "      <td>9600</td>\n",
       "      <td>1</td>\n",
       "      <td>1</td>\n",
       "      <td>3</td>\n",
       "      <td>0</td>\n",
       "      <td>6</td>\n",
       "      <td>7</td>\n",
       "      <td>...</td>\n",
       "      <td>0</td>\n",
       "      <td>0</td>\n",
       "      <td>0</td>\n",
       "      <td>1</td>\n",
       "      <td>0</td>\n",
       "      <td>0</td>\n",
       "      <td>0</td>\n",
       "      <td>0</td>\n",
       "      <td>1</td>\n",
       "      <td>0</td>\n",
       "    </tr>\n",
       "    <tr>\n",
       "      <th>2</th>\n",
       "      <td>3</td>\n",
       "      <td>9</td>\n",
       "      <td>68.0</td>\n",
       "      <td>11250</td>\n",
       "      <td>1</td>\n",
       "      <td>1</td>\n",
       "      <td>0</td>\n",
       "      <td>0</td>\n",
       "      <td>7</td>\n",
       "      <td>4</td>\n",
       "      <td>...</td>\n",
       "      <td>0</td>\n",
       "      <td>0</td>\n",
       "      <td>0</td>\n",
       "      <td>1</td>\n",
       "      <td>0</td>\n",
       "      <td>0</td>\n",
       "      <td>0</td>\n",
       "      <td>0</td>\n",
       "      <td>1</td>\n",
       "      <td>0</td>\n",
       "    </tr>\n",
       "    <tr>\n",
       "      <th>3</th>\n",
       "      <td>4</td>\n",
       "      <td>10</td>\n",
       "      <td>60.0</td>\n",
       "      <td>9550</td>\n",
       "      <td>1</td>\n",
       "      <td>1</td>\n",
       "      <td>0</td>\n",
       "      <td>0</td>\n",
       "      <td>7</td>\n",
       "      <td>4</td>\n",
       "      <td>...</td>\n",
       "      <td>0</td>\n",
       "      <td>0</td>\n",
       "      <td>0</td>\n",
       "      <td>1</td>\n",
       "      <td>1</td>\n",
       "      <td>0</td>\n",
       "      <td>0</td>\n",
       "      <td>0</td>\n",
       "      <td>0</td>\n",
       "      <td>0</td>\n",
       "    </tr>\n",
       "    <tr>\n",
       "      <th>4</th>\n",
       "      <td>5</td>\n",
       "      <td>9</td>\n",
       "      <td>84.0</td>\n",
       "      <td>14260</td>\n",
       "      <td>1</td>\n",
       "      <td>1</td>\n",
       "      <td>0</td>\n",
       "      <td>0</td>\n",
       "      <td>8</td>\n",
       "      <td>4</td>\n",
       "      <td>...</td>\n",
       "      <td>0</td>\n",
       "      <td>0</td>\n",
       "      <td>0</td>\n",
       "      <td>1</td>\n",
       "      <td>0</td>\n",
       "      <td>0</td>\n",
       "      <td>0</td>\n",
       "      <td>0</td>\n",
       "      <td>1</td>\n",
       "      <td>0</td>\n",
       "    </tr>\n",
       "    <tr>\n",
       "      <th>5</th>\n",
       "      <td>6</td>\n",
       "      <td>8</td>\n",
       "      <td>85.0</td>\n",
       "      <td>14115</td>\n",
       "      <td>1</td>\n",
       "      <td>1</td>\n",
       "      <td>0</td>\n",
       "      <td>0</td>\n",
       "      <td>5</td>\n",
       "      <td>4</td>\n",
       "      <td>...</td>\n",
       "      <td>0</td>\n",
       "      <td>0</td>\n",
       "      <td>0</td>\n",
       "      <td>1</td>\n",
       "      <td>0</td>\n",
       "      <td>0</td>\n",
       "      <td>0</td>\n",
       "      <td>0</td>\n",
       "      <td>1</td>\n",
       "      <td>0</td>\n",
       "    </tr>\n",
       "    <tr>\n",
       "      <th>6</th>\n",
       "      <td>7</td>\n",
       "      <td>4</td>\n",
       "      <td>75.0</td>\n",
       "      <td>10084</td>\n",
       "      <td>1</td>\n",
       "      <td>1</td>\n",
       "      <td>3</td>\n",
       "      <td>0</td>\n",
       "      <td>8</td>\n",
       "      <td>4</td>\n",
       "      <td>...</td>\n",
       "      <td>0</td>\n",
       "      <td>0</td>\n",
       "      <td>0</td>\n",
       "      <td>1</td>\n",
       "      <td>0</td>\n",
       "      <td>0</td>\n",
       "      <td>0</td>\n",
       "      <td>0</td>\n",
       "      <td>1</td>\n",
       "      <td>0</td>\n",
       "    </tr>\n",
       "    <tr>\n",
       "      <th>7</th>\n",
       "      <td>8</td>\n",
       "      <td>9</td>\n",
       "      <td>80.0</td>\n",
       "      <td>10382</td>\n",
       "      <td>1</td>\n",
       "      <td>1</td>\n",
       "      <td>0</td>\n",
       "      <td>0</td>\n",
       "      <td>7</td>\n",
       "      <td>5</td>\n",
       "      <td>...</td>\n",
       "      <td>0</td>\n",
       "      <td>0</td>\n",
       "      <td>0</td>\n",
       "      <td>1</td>\n",
       "      <td>0</td>\n",
       "      <td>0</td>\n",
       "      <td>0</td>\n",
       "      <td>0</td>\n",
       "      <td>1</td>\n",
       "      <td>0</td>\n",
       "    </tr>\n",
       "    <tr>\n",
       "      <th>8</th>\n",
       "      <td>9</td>\n",
       "      <td>8</td>\n",
       "      <td>51.0</td>\n",
       "      <td>6120</td>\n",
       "      <td>1</td>\n",
       "      <td>1</td>\n",
       "      <td>3</td>\n",
       "      <td>0</td>\n",
       "      <td>7</td>\n",
       "      <td>4</td>\n",
       "      <td>...</td>\n",
       "      <td>0</td>\n",
       "      <td>0</td>\n",
       "      <td>0</td>\n",
       "      <td>1</td>\n",
       "      <td>1</td>\n",
       "      <td>0</td>\n",
       "      <td>0</td>\n",
       "      <td>0</td>\n",
       "      <td>0</td>\n",
       "      <td>0</td>\n",
       "    </tr>\n",
       "    <tr>\n",
       "      <th>9</th>\n",
       "      <td>10</td>\n",
       "      <td>3</td>\n",
       "      <td>50.0</td>\n",
       "      <td>7420</td>\n",
       "      <td>1</td>\n",
       "      <td>1</td>\n",
       "      <td>3</td>\n",
       "      <td>0</td>\n",
       "      <td>5</td>\n",
       "      <td>5</td>\n",
       "      <td>...</td>\n",
       "      <td>0</td>\n",
       "      <td>0</td>\n",
       "      <td>0</td>\n",
       "      <td>1</td>\n",
       "      <td>0</td>\n",
       "      <td>0</td>\n",
       "      <td>0</td>\n",
       "      <td>0</td>\n",
       "      <td>1</td>\n",
       "      <td>0</td>\n",
       "    </tr>\n",
       "  </tbody>\n",
       "</table>\n",
       "<p>10 rows × 222 columns</p>\n",
       "</div>"
      ],
      "text/plain": [
       "   Id  MSSubClass  LotFrontage  LotArea  Street  Alley  LotShape  LandSlope  \\\n",
       "0   1           9         65.0     8450       1      1         3          0   \n",
       "1   2           4         80.0     9600       1      1         3          0   \n",
       "2   3           9         68.0    11250       1      1         0          0   \n",
       "3   4          10         60.0     9550       1      1         0          0   \n",
       "4   5           9         84.0    14260       1      1         0          0   \n",
       "5   6           8         85.0    14115       1      1         0          0   \n",
       "6   7           4         75.0    10084       1      1         3          0   \n",
       "7   8           9         80.0    10382       1      1         0          0   \n",
       "8   9           8         51.0     6120       1      1         3          0   \n",
       "9  10           3         50.0     7420       1      1         3          0   \n",
       "\n",
       "   OverallQual  OverallCond  ...  SaleType_ConLw  SaleType_New  SaleType_Oth  \\\n",
       "0            7            4  ...               0             0             0   \n",
       "1            6            7  ...               0             0             0   \n",
       "2            7            4  ...               0             0             0   \n",
       "3            7            4  ...               0             0             0   \n",
       "4            8            4  ...               0             0             0   \n",
       "5            5            4  ...               0             0             0   \n",
       "6            8            4  ...               0             0             0   \n",
       "7            7            5  ...               0             0             0   \n",
       "8            7            4  ...               0             0             0   \n",
       "9            5            5  ...               0             0             0   \n",
       "\n",
       "   SaleType_WD  SaleCondition_Abnorml  SaleCondition_AdjLand  \\\n",
       "0            1                      0                      0   \n",
       "1            1                      0                      0   \n",
       "2            1                      0                      0   \n",
       "3            1                      1                      0   \n",
       "4            1                      0                      0   \n",
       "5            1                      0                      0   \n",
       "6            1                      0                      0   \n",
       "7            1                      0                      0   \n",
       "8            1                      1                      0   \n",
       "9            1                      0                      0   \n",
       "\n",
       "   SaleCondition_Alloca  SaleCondition_Family  SaleCondition_Normal  \\\n",
       "0                     0                     0                     1   \n",
       "1                     0                     0                     1   \n",
       "2                     0                     0                     1   \n",
       "3                     0                     0                     0   \n",
       "4                     0                     0                     1   \n",
       "5                     0                     0                     1   \n",
       "6                     0                     0                     1   \n",
       "7                     0                     0                     1   \n",
       "8                     0                     0                     0   \n",
       "9                     0                     0                     1   \n",
       "\n",
       "   SaleCondition_Partial  \n",
       "0                      0  \n",
       "1                      0  \n",
       "2                      0  \n",
       "3                      0  \n",
       "4                      0  \n",
       "5                      0  \n",
       "6                      0  \n",
       "7                      0  \n",
       "8                      0  \n",
       "9                      0  \n",
       "\n",
       "[10 rows x 222 columns]"
      ]
     },
     "execution_count": 54,
     "metadata": {},
     "output_type": "execute_result"
    }
   ],
   "source": [
    "df_house_price.head(10)"
   ]
  },
  {
   "cell_type": "code",
   "execution_count": 55,
   "metadata": {},
   "outputs": [],
   "source": [
    "# Remove the target variable\n",
    "x = df_house_price.drop('SalePrice', axis=1)\n"
   ]
  },
  {
   "cell_type": "markdown",
   "metadata": {},
   "source": [
    "# Standardizing input variables"
   ]
  },
  {
   "cell_type": "code",
   "execution_count": 56,
   "metadata": {},
   "outputs": [],
   "source": [
    "from sklearn.preprocessing import StandardScaler\n",
    "import numpy as np\n",
    "\n",
    "# Standardized the dataset\n",
    "sc_x = StandardScaler()\n",
    "x_std = sc_x.fit_transform(x)\n"
   ]
  },
  {
   "cell_type": "markdown",
   "metadata": {},
   "source": [
    "# 1. Computing the mean vector"
   ]
  },
  {
   "cell_type": "code",
   "execution_count": 57,
   "metadata": {},
   "outputs": [],
   "source": [
    "# find the mean for each column\n",
    "mean_vec = np.mean(x_std, axis=0)\n"
   ]
  },
  {
   "cell_type": "markdown",
   "metadata": {},
   "source": [
    "# 2. Computing the Covariance Matrix"
   ]
  },
  {
   "cell_type": "code",
   "execution_count": 58,
   "metadata": {},
   "outputs": [],
   "source": [
    "# find the covariance among variables\n",
    "cov_mat = (x_std - mean_vec).T.dot((x_std - mean_vec)) / (x_std.shape[0]-1) \n",
    "                   "
   ]
  },
  {
   "cell_type": "code",
   "execution_count": 59,
   "metadata": {},
   "outputs": [
    {
     "name": "stdout",
     "output_type": "stream",
     "text": [
      "[[ 1.0006854   0.01992535 -0.00338295 ...  0.00486876  0.01589233\n",
      "  -0.02075242]\n",
      " [ 0.01992535  1.0006854   0.23801249 ...  0.02782127  0.02428959\n",
      "  -0.09045685]\n",
      " [-0.00338295  0.23801249  1.0006854  ...  0.01367554 -0.07309658\n",
      "   0.12098879]\n",
      " ...\n",
      " [ 0.00486876  0.02782127  0.01367554 ...  1.0006854  -0.25217909\n",
      "  -0.03608658]\n",
      " [ 0.01589233  0.02428959 -0.07309658 ... -0.25217909  1.0006854\n",
      "  -0.6547714 ]\n",
      " [-0.02075242 -0.09045685  0.12098879 ... -0.03608658 -0.6547714\n",
      "   1.0006854 ]]\n"
     ]
    }
   ],
   "source": [
    "print(cov_mat)\n"
   ]
  },
  {
   "cell_type": "markdown",
   "metadata": {},
   "source": [
    "# 3. Computing eigenvectors and corresponding eigenvalues"
   ]
  },
  {
   "cell_type": "code",
   "execution_count": 60,
   "metadata": {},
   "outputs": [],
   "source": [
    "# find eigenvalues and eigenvectors\n",
    "eig_vals, eig_vecs = np.linalg.eig(cov_mat)"
   ]
  },
  {
   "cell_type": "code",
   "execution_count": 61,
   "metadata": {},
   "outputs": [
    {
     "name": "stdout",
     "output_type": "stream",
     "text": [
      "[[-1.22992607e-03+0.j -2.62246297e-03+0.j -3.08992209e-03+0.j ...\n",
      "  -4.66152305e-16+0.j  1.30902513e-16+0.j -3.76860351e-16+0.j]\n",
      " [-2.02602159e-02+0.j  5.41907680e-02+0.j -2.46423301e-01+0.j ...\n",
      "  -7.86590825e-15+0.j -8.23348090e-15+0.j  1.98922936e-17+0.j]\n",
      " [ 8.56967539e-02+0.j -7.81882611e-02+0.j -1.90646820e-01+0.j ...\n",
      "   1.38492768e-15+0.j -1.08358792e-17+0.j  1.20041024e-15+0.j]\n",
      " ...\n",
      " [-8.57015671e-03+0.j -5.35787772e-03+0.j -1.05832873e-02+0.j ...\n",
      "  -3.63257210e-02+0.j -3.17113329e-02+0.j -2.25491800e-02+0.j]\n",
      " [-6.10245314e-02+0.j -7.54678153e-02+0.j -2.87484034e-02+0.j ...\n",
      "  -1.19921500e-01+0.j -1.04688098e-01+0.j -7.44412341e-02+0.j]\n",
      " [ 1.23240525e-01+0.j  1.08621030e-01+0.j  5.82382188e-02+0.j ...\n",
      "  -8.74407025e-02+0.j -7.63332745e-02+0.j -5.42787889e-02+0.j]]\n"
     ]
    }
   ],
   "source": [
    "print(eig_vecs)\n"
   ]
  },
  {
   "cell_type": "code",
   "execution_count": 62,
   "metadata": {},
   "outputs": [
    {
     "name": "stdout",
     "output_type": "stream",
     "text": [
      "[ 1.43545771e+01+0.00000000e+00j  6.99625620e+00+0.00000000e+00j\n",
      "  6.20668480e+00+0.00000000e+00j  5.05111513e+00+0.00000000e+00j\n",
      "  3.91489817e+00+0.00000000e+00j  3.73866721e+00+0.00000000e+00j\n",
      "  3.65467449e+00+0.00000000e+00j  3.32155997e+00+0.00000000e+00j\n",
      "  3.23279454e+00+0.00000000e+00j  3.03093380e+00+0.00000000e+00j\n",
      "  2.83012146e+00+0.00000000e+00j  2.72704563e+00+0.00000000e+00j\n",
      "  2.65547015e+00+0.00000000e+00j  2.58476159e+00+0.00000000e+00j\n",
      "  2.54702694e+00+0.00000000e+00j  2.41278490e+00+0.00000000e+00j\n",
      "  2.33801737e+00+0.00000000e+00j  2.33193605e+00+0.00000000e+00j\n",
      "  2.24155349e+00+0.00000000e+00j  2.18739592e+00+0.00000000e+00j\n",
      "  2.16766101e+00+0.00000000e+00j  2.11218014e+00+0.00000000e+00j\n",
      "  2.07644803e+00+0.00000000e+00j  2.01761823e+00+0.00000000e+00j\n",
      "  1.99770545e+00+0.00000000e+00j  1.93061305e+00+0.00000000e+00j\n",
      "  1.91931425e+00+0.00000000e+00j  1.91152801e+00+0.00000000e+00j\n",
      "  1.89033034e+00+0.00000000e+00j  1.86797291e+00+0.00000000e+00j\n",
      "  1.79514439e+00+0.00000000e+00j  1.77519348e+00+0.00000000e+00j\n",
      "  1.73904663e+00+0.00000000e+00j  1.72684363e+00+0.00000000e+00j\n",
      "  1.69015847e+00+0.00000000e+00j  1.65193890e+00+0.00000000e+00j\n",
      "  1.60315431e+00+0.00000000e+00j  1.58109592e+00+0.00000000e+00j\n",
      "  1.55237639e+00+0.00000000e+00j  1.53702804e+00+0.00000000e+00j\n",
      "  1.51698710e+00+0.00000000e+00j  1.47913172e+00+0.00000000e+00j\n",
      "  1.48525511e+00+0.00000000e+00j  1.45220069e+00+0.00000000e+00j\n",
      "  1.43273705e+00+0.00000000e+00j  1.42970655e+00+0.00000000e+00j\n",
      "  1.40776867e+00+0.00000000e+00j  1.39761044e+00+0.00000000e+00j\n",
      "  1.36898173e+00+0.00000000e+00j  1.36077579e+00+0.00000000e+00j\n",
      "  1.34226982e+00+0.00000000e+00j  1.31647458e+00+0.00000000e+00j\n",
      "  1.30831517e+00+0.00000000e+00j  1.29737523e+00+0.00000000e+00j\n",
      "  1.27797815e+00+0.00000000e+00j  1.27069677e+00+0.00000000e+00j\n",
      "  1.26082709e+00+0.00000000e+00j  1.24493789e+00+0.00000000e+00j\n",
      "  1.23073714e+00+0.00000000e+00j  1.22431058e+00+0.00000000e+00j\n",
      "  1.20413289e+00+0.00000000e+00j  1.18421788e+00+0.00000000e+00j\n",
      "  1.17540215e+00+0.00000000e+00j  1.15356422e+00+0.00000000e+00j\n",
      "  1.14342185e+00+0.00000000e+00j  1.14873325e+00+0.00000000e+00j\n",
      "  1.12161813e+00+0.00000000e+00j  1.11634694e+00+0.00000000e+00j\n",
      "  1.10579984e+00+0.00000000e+00j  1.08965091e+00+0.00000000e+00j\n",
      "  1.08717298e+00+0.00000000e+00j  1.02596617e+00+0.00000000e+00j\n",
      "  1.07871716e+00+0.00000000e+00j  1.07285957e+00+0.00000000e+00j\n",
      "  1.06783350e+00+0.00000000e+00j  1.04247737e+00+0.00000000e+00j\n",
      "  1.05006573e+00+0.00000000e+00j  1.05301991e+00+0.00000000e+00j\n",
      "  5.29954582e-02+0.00000000e+00j  6.06759331e-02+0.00000000e+00j\n",
      "  1.02915307e+00+0.00000000e+00j  1.00769562e+00+0.00000000e+00j\n",
      "  1.00233655e+00+0.00000000e+00j  9.91567167e-01+0.00000000e+00j\n",
      "  9.80510292e-01+0.00000000e+00j  9.75480952e-01+0.00000000e+00j\n",
      "  9.71194882e-01+0.00000000e+00j  9.54070848e-01+0.00000000e+00j\n",
      "  9.40123163e-01+0.00000000e+00j  9.35557905e-01+0.00000000e+00j\n",
      "  9.25059839e-01+0.00000000e+00j  9.18511334e-01+0.00000000e+00j\n",
      "  9.01245046e-01+0.00000000e+00j  8.87448193e-01+0.00000000e+00j\n",
      "  3.60386221e-02+0.00000000e+00j  2.99340257e-02+0.00000000e+00j\n",
      "  1.01694743e-01+0.00000000e+00j  1.08261769e-01+0.00000000e+00j\n",
      "  2.13952855e-02+0.00000000e+00j  8.96299817e-02+0.00000000e+00j\n",
      "  7.28246119e-02+0.00000000e+00j  7.46573744e-02+0.00000000e+00j\n",
      "  7.57918286e-02+0.00000000e+00j  1.25701454e-01+0.00000000e+00j\n",
      "  1.28818435e-01+0.00000000e+00j  8.31486895e-02+0.00000000e+00j\n",
      "  1.45935045e-01+0.00000000e+00j  1.51739636e-01+0.00000000e+00j\n",
      "  1.61600844e-01+0.00000000e+00j  1.65799689e-01+0.00000000e+00j\n",
      "  1.72010010e-01+0.00000000e+00j  8.72946668e-01+0.00000000e+00j\n",
      "  8.69196560e-01+0.00000000e+00j  1.90895128e-02+0.00000000e+00j\n",
      "  1.84532512e-01+0.00000000e+00j  8.61279737e-01+0.00000000e+00j\n",
      "  8.52726556e-01+0.00000000e+00j  8.42724492e-01+0.00000000e+00j\n",
      "  8.40973511e-01+0.00000000e+00j  8.26874628e-01+0.00000000e+00j\n",
      "  8.21607561e-01+0.00000000e+00j  8.13509378e-01+0.00000000e+00j\n",
      "  1.51872609e-02+0.00000000e+00j  1.97090605e-01+0.00000000e+00j\n",
      "  2.05956646e-01+0.00000000e+00j  2.09788725e-01+0.00000000e+00j\n",
      "  2.27336871e-01+0.00000000e+00j  2.29417424e-01+0.00000000e+00j\n",
      "  8.00746130e-01+0.00000000e+00j  7.92240543e-01+0.00000000e+00j\n",
      "  7.82957259e-01+0.00000000e+00j  1.59110243e-02+0.00000000e+00j\n",
      "  2.50404815e-01+0.00000000e+00j  2.37751931e-01+0.00000000e+00j\n",
      "  2.35016111e-01+0.00000000e+00j  2.61110712e-01+0.00000000e+00j\n",
      "  2.65729558e-01+0.00000000e+00j  2.94466747e-01+0.00000000e+00j\n",
      "  2.98672495e-01+0.00000000e+00j  2.78594771e-01+0.00000000e+00j\n",
      "  7.72197478e-01+0.00000000e+00j  7.75116472e-01+0.00000000e+00j\n",
      "  7.54392572e-01+0.00000000e+00j  7.08533604e-01+0.00000000e+00j\n",
      "  7.12508824e-01+0.00000000e+00j  7.32978157e-01+0.00000000e+00j\n",
      "  7.41412396e-01+0.00000000e+00j  7.39080299e-01+0.00000000e+00j\n",
      "  2.77213400e-01+0.00000000e+00j  3.32728623e-01+0.00000000e+00j\n",
      "  3.12957444e-01+0.00000000e+00j  7.01188493e-01+0.00000000e+00j\n",
      "  7.26501024e-01+0.00000000e+00j  6.86208806e-01+0.00000000e+00j\n",
      "  3.16524256e-01+0.00000000e+00j  3.64587609e-01+0.00000000e+00j\n",
      "  3.74395038e-01+0.00000000e+00j  3.43072438e-01+0.00000000e+00j\n",
      "  3.52628910e-01+0.00000000e+00j  6.78935375e-01+0.00000000e+00j\n",
      "  6.60609719e-01+0.00000000e+00j  6.56273138e-01+0.00000000e+00j\n",
      "  6.47205746e-01+0.00000000e+00j  3.48370476e-01+0.00000000e+00j\n",
      "  4.00328954e-01+0.00000000e+00j  4.12025399e-01+0.00000000e+00j\n",
      "  4.18301411e-01+0.00000000e+00j  3.88160323e-01+0.00000000e+00j\n",
      "  3.91141593e-01+0.00000000e+00j  4.63321071e-01+0.00000000e+00j\n",
      "  4.40844763e-01+0.00000000e+00j  4.46673132e-01+0.00000000e+00j\n",
      "  6.39557844e-01+0.00000000e+00j  4.84637334e-01+0.00000000e+00j\n",
      "  6.36546804e-01+0.00000000e+00j  4.90736589e-01+0.00000000e+00j\n",
      "  4.56397288e-01+0.00000000e+00j  4.35157053e-01+0.00000000e+00j\n",
      "  3.18523853e-01+0.00000000e+00j  4.52650301e-01+0.00000000e+00j\n",
      "  6.20147862e-01+0.00000000e+00j  6.17793259e-01+0.00000000e+00j\n",
      "  6.11089570e-01+0.00000000e+00j  5.46272401e-01+0.00000000e+00j\n",
      "  5.33570315e-01+0.00000000e+00j  5.28515851e-01+0.00000000e+00j\n",
      "  6.01139655e-01+0.00000000e+00j  5.70429727e-01+0.00000000e+00j\n",
      "  5.55631411e-01+0.00000000e+00j  5.96618627e-01+0.00000000e+00j\n",
      "  5.90185075e-01+0.00000000e+00j  5.62894685e-01+0.00000000e+00j\n",
      "  5.02249604e-01+0.00000000e+00j  5.19102587e-01+0.00000000e+00j\n",
      "  5.10521011e-01+0.00000000e+00j  5.07640585e-01+0.00000000e+00j\n",
      "  5.76628489e-01+0.00000000e+00j  2.65657163e-04+0.00000000e+00j\n",
      "  3.31020623e-15+0.00000000e+00j  3.83475352e-15+0.00000000e+00j\n",
      " -2.91641448e-15+0.00000000e+00j  2.71512405e-15+0.00000000e+00j\n",
      "  2.64188105e-15+0.00000000e+00j -2.30819157e-15+0.00000000e+00j\n",
      "  1.70572126e-15+1.71066409e-17j  1.70572126e-15-1.71066409e-17j\n",
      "  1.40679031e-15+0.00000000e+00j  1.17848844e-15+0.00000000e+00j\n",
      "  7.86421032e-16+0.00000000e+00j  5.04264466e-16+0.00000000e+00j\n",
      "  6.02377241e-16+0.00000000e+00j  2.04214795e-16+0.00000000e+00j\n",
      " -7.14791909e-17+0.00000000e+00j -2.61718245e-16+0.00000000e+00j\n",
      " -5.63429550e-16+0.00000000e+00j -1.75479571e-15+0.00000000e+00j\n",
      " -1.51193216e-15+3.52725762e-17j -1.51193216e-15-3.52725762e-17j\n",
      " -8.49369852e-16+0.00000000e+00j -1.07688106e-15+0.00000000e+00j\n",
      " -1.19207398e-15+0.00000000e+00j]\n"
     ]
    }
   ],
   "source": [
    "print(eig_vals)"
   ]
  },
  {
   "cell_type": "markdown",
   "metadata": {},
   "source": [
    "If eigen value is high for eigen vector that means the vector has a lot of variance."
   ]
  },
  {
   "cell_type": "markdown",
   "metadata": {},
   "source": [
    "# 4. Sorting the eigenvectors by decreasing eigenvalues"
   ]
  },
  {
   "cell_type": "code",
   "execution_count": 63,
   "metadata": {},
   "outputs": [
    {
     "name": "stdout",
     "output_type": "stream",
     "text": [
      "Eigenvalues in descending order:\n",
      "14.35457707673228\n",
      "6.99625620295957\n",
      "6.206684796549184\n",
      "5.051115127420847\n",
      "3.9148981706571577\n",
      "3.738667211557799\n",
      "3.6546744872361017\n",
      "3.3215599714601387\n",
      "3.2327945420388375\n",
      "3.0309338017003644\n",
      "2.8301214592050514\n",
      "2.7270456268507957\n",
      "2.6554701471687894\n",
      "2.5847615941048745\n",
      "2.547026938598462\n",
      "2.412784902914043\n",
      "2.3380173709986787\n",
      "2.331936054421661\n",
      "2.2415534911013157\n",
      "2.1873959168632418\n",
      "2.1676610081593912\n",
      "2.112180142745619\n",
      "2.076448033601474\n",
      "2.0176182307177943\n",
      "1.9977054456313652\n",
      "1.9306130480646542\n",
      "1.919314246252384\n",
      "1.9115280065976201\n",
      "1.8903303364247754\n",
      "1.8679729067827566\n",
      "1.7951443883406513\n",
      "1.775193482879114\n",
      "1.739046627555155\n",
      "1.7268436335267228\n",
      "1.690158470000933\n",
      "1.651938904629075\n",
      "1.6031543058673516\n",
      "1.581095924365893\n",
      "1.5523763902067673\n",
      "1.537028042588036\n",
      "1.5169870977166944\n",
      "1.485255106252361\n",
      "1.479131722341288\n",
      "1.452200691211437\n",
      "1.4327370457775057\n",
      "1.4297065538575133\n",
      "1.4077686741279172\n",
      "1.3976104428176452\n",
      "1.368981728227354\n",
      "1.3607757896602046\n",
      "1.3422698168749896\n",
      "1.3164745797540858\n",
      "1.3083151706193685\n",
      "1.2973752315840394\n",
      "1.2779781503850969\n",
      "1.2706967657296657\n",
      "1.2608270882663788\n",
      "1.2449378903160153\n",
      "1.2307371435117997\n",
      "1.2243105824273017\n",
      "1.2041328859435183\n",
      "1.184217882742855\n",
      "1.1754021534489387\n",
      "1.1535642181914396\n",
      "1.1487332519484184\n",
      "1.1434218460138377\n",
      "1.1216181265276373\n",
      "1.1163469416535052\n",
      "1.1057998391567476\n",
      "1.0896509144761455\n",
      "1.087172984330756\n",
      "1.0787171646836589\n",
      "1.0728595718462648\n",
      "1.06783350149027\n",
      "1.05301991299446\n",
      "1.0500657286456911\n",
      "1.0424773688867475\n",
      "1.0291530666538786\n",
      "1.0259661686263177\n",
      "1.0076956186594348\n",
      "1.0023365476695647\n",
      "0.991567167288186\n",
      "0.9805102924496993\n",
      "0.9754809522450053\n",
      "0.9711948818010809\n",
      "0.9540708475606182\n",
      "0.9401231634622838\n",
      "0.9355579046215803\n",
      "0.9250598392790805\n",
      "0.9185113336908852\n",
      "0.9012450460139515\n",
      "0.8874481930364782\n",
      "0.8729466677346893\n",
      "0.8691965604812137\n",
      "0.8612797369518111\n",
      "0.8527265557631909\n",
      "0.8427244915115272\n",
      "0.840973511113496\n",
      "0.8268746279791388\n",
      "0.8216075613848133\n",
      "0.8135093782030148\n",
      "0.800746130432288\n",
      "0.7922405428265376\n",
      "0.7829572588769075\n",
      "0.7751164718308887\n",
      "0.7721974778708374\n",
      "0.7543925723076736\n",
      "0.7414123963903314\n",
      "0.7390802986190403\n",
      "0.7329781574525945\n",
      "0.7265010240521462\n",
      "0.7125088236880851\n",
      "0.7085336041478554\n",
      "0.7011884933107667\n",
      "0.6862088056347186\n",
      "0.678935375383024\n",
      "0.660609718738478\n",
      "0.6562731376174031\n",
      "0.6472057461033204\n",
      "0.6395578439177145\n",
      "0.6365468036422326\n",
      "0.6201478622247675\n",
      "0.617793259274352\n",
      "0.6110895702977838\n",
      "0.6011396552403141\n",
      "0.5966186267646919\n",
      "0.590185074511772\n",
      "0.5766284886859049\n",
      "0.5704297268537527\n",
      "0.562894684777721\n",
      "0.5556314108052156\n",
      "0.5462724010123564\n",
      "0.53357031453806\n",
      "0.5285158514192002\n",
      "0.5191025867465372\n",
      "0.5105210111139439\n",
      "0.5076405852849168\n",
      "0.5022496036019475\n",
      "0.4907365893232941\n",
      "0.4846373344329599\n",
      "0.46332107056409766\n",
      "0.45639728824440606\n",
      "0.45265030146200497\n",
      "0.44667313166187944\n",
      "0.44084476301556785\n",
      "0.4351570527288807\n",
      "0.41830141121430553\n",
      "0.4120253994568821\n",
      "0.4003289535422832\n",
      "0.3911415930988665\n",
      "0.388160323475758\n",
      "0.37439503771172916\n",
      "0.3645876087205016\n",
      "0.3526289095020048\n",
      "0.3483704755560924\n",
      "0.343072438054378\n",
      "0.33272862295340483\n",
      "0.3185238525149081\n",
      "0.31652425642931586\n",
      "0.3129574443221017\n",
      "0.2986724954791578\n",
      "0.29446674699732683\n",
      "0.27859477070914734\n",
      "0.27721340006592343\n",
      "0.2657295584296627\n",
      "0.2611107121949047\n",
      "0.2504048154501313\n",
      "0.2377519306426338\n",
      "0.23501611064220593\n",
      "0.22941742449454014\n",
      "0.22733687143879733\n",
      "0.20978872498888426\n",
      "0.20595664562884378\n",
      "0.19709060474149706\n",
      "0.18453251157996656\n",
      "0.1720100095380404\n",
      "0.16579968941884818\n",
      "0.16160084423325416\n",
      "0.15173963596750387\n",
      "0.14593504491175974\n",
      "0.1288184351638342\n",
      "0.12570145363904803\n",
      "0.10826176927231732\n",
      "0.10169474262531548\n",
      "0.0896299816698784\n",
      "0.08314868948120974\n",
      "0.07579182857631953\n",
      "0.07465737438689679\n",
      "0.07282461187637339\n",
      "0.06067593307521223\n",
      "0.05299545822676897\n",
      "0.036038622094973584\n",
      "0.029934025677871987\n",
      "0.021395285481153773\n",
      "0.019089512805892016\n",
      "0.015911024348713356\n",
      "0.015187260867269726\n",
      "0.00026565716252920763\n",
      "3.8347535221942486e-15\n",
      "3.3102062272075015e-15\n",
      "2.916414478232626e-15\n",
      "2.715124054008621e-15\n",
      "2.6418810474423308e-15\n",
      "2.308191568903125e-15\n",
      "1.7547957060581102e-15\n",
      "1.7058070438059775e-15\n",
      "1.7058070438059775e-15\n",
      "1.5123435461465835e-15\n",
      "1.5123435461465835e-15\n",
      "1.406790308735935e-15\n",
      "1.1920739811399789e-15\n",
      "1.178488443441707e-15\n",
      "1.0768810602550558e-15\n",
      "8.493698520163791e-16\n",
      "7.864210316048162e-16\n",
      "6.023772407057846e-16\n",
      "5.634295495665655e-16\n",
      "5.042644662516296e-16\n",
      "2.6171824508068283e-16\n",
      "2.042147950466985e-16\n",
      "7.147919089133006e-17\n"
     ]
    }
   ],
   "source": [
    "# Make a list of (eigenvalue, eigenvector) tuples\n",
    "eig_pairs = [[np.abs(eig_vals[i]), eig_vecs[:,i]] for i in range(len(eig_vals))]\n",
    "\n",
    "eig_pairs.sort(key=lambda x: x[0], reverse=True)\n",
    "\n",
    "print('Eigenvalues in descending order:')\n",
    "for i in eig_pairs:\n",
    "    print(i[0])    "
   ]
  },
  {
   "cell_type": "markdown",
   "metadata": {},
   "source": [
    "All the eigen values are sorted in an descending order."
   ]
  },
  {
   "cell_type": "markdown",
   "metadata": {},
   "source": [
    "# 5. Select components based on eigen values"
   ]
  },
  {
   "cell_type": "markdown",
   "metadata": {},
   "source": [
    "We have 221 components from which we have to select components based on eigen value which has high value.\n",
    "Here, filter out eigen values which has above 0.5"
   ]
  },
  {
   "cell_type": "code",
   "execution_count": 64,
   "metadata": {},
   "outputs": [
    {
     "name": "stdout",
     "output_type": "stream",
     "text": [
      "Number of components: 138\n"
     ]
    }
   ],
   "source": [
    "pairs = np.array(eig_pairs)\n",
    "count = 0\n",
    "components = []\n",
    "for i in range (len(eig_pairs)):\n",
    "    if eig_pairs[i][0] >= 0.5:\n",
    "        count += 1\n",
    "        components.append(pairs[i])\n",
    "print(\"Number of components: \" + str(count)) "
   ]
  },
  {
   "cell_type": "markdown",
   "metadata": {},
   "source": [
    "When we select the eigen value as 0.5 or above 0.5, we get 138 components. 0.5 is not a threshold eigen value. We use this \n",
    "value to check the percentage fo information the selected component carry. It the selected component gives less information\n",
    "we select more components and this can be achieved by setting eigen value below 0.5"
   ]
  },
  {
   "cell_type": "code",
   "execution_count": null,
   "metadata": {},
   "outputs": [],
   "source": []
  },
  {
   "cell_type": "markdown",
   "metadata": {},
   "source": [
    "Lets check how much information the selected components contains"
   ]
  },
  {
   "cell_type": "code",
   "execution_count": 65,
   "metadata": {},
   "outputs": [],
   "source": [
    "# calculate explained variance\n",
    "total = 0                            \n",
    "ein = []                             \n",
    "for i in range(len(components)):\n",
    "    total += components[i][0]\n",
    "    ein.append(components[i][0])\n",
    "    \n",
    "# divide eigen value by total eigen value and then multiple with 100 for the selected components\n",
    "var_exp = [(i / sum(eig_vals))*100 for i in sorted(ein, reverse=True)]\n",
    "cum_var_exp = np.cumsum(var_exp)\n"
   ]
  },
  {
   "cell_type": "code",
   "execution_count": 66,
   "metadata": {},
   "outputs": [
    {
     "data": {
      "text/plain": [
       "array([ 6.49083492+0.j,  9.6543934 +0.j, 12.46092446+0.j, 14.74493146+0.j,\n",
       "       16.51516527+0.j, 18.20571119+0.j, 19.85827739+0.j, 21.36021627+0.j,\n",
       "       22.82201731+0.j, 24.19254121+0.j, 25.47226203+0.j, 26.70537415+0.j,\n",
       "       27.90612136+0.j, 29.07489567+0.j, 30.22660716+0.j, 31.31761725+0.j,\n",
       "       32.37481906+0.j, 33.42927102+0.j, 34.44285391+0.j, 35.43194789+0.j,\n",
       "       36.41211817+0.j, 37.36720117+0.j, 38.30612688+0.j, 39.218451  +0.j,\n",
       "       40.12177098+0.j, 40.9947532 +0.j, 41.86262634+0.j, 42.72697871+0.j,\n",
       "       43.58174595+0.j, 44.42640363+0.j, 45.2381298 +0.j, 46.04083459+0.j,\n",
       "       46.82719455+0.j, 47.60803657+0.j, 48.37229034+0.j, 49.11926203+0.j,\n",
       "       49.84417436+0.j, 50.55911236+0.j, 51.261064  +0.j, 51.95607544+0.j,\n",
       "       52.64202479+0.j, 53.31362561+0.j, 53.98245756+0.j, 54.63911188+0.j,\n",
       "       55.28696514+0.j, 55.93344809+0.j, 56.57001118+0.j, 57.20198095+0.j,\n",
       "       57.82100541+0.j, 58.43631933+0.j, 59.04326523+0.j, 59.63854708+0.j,\n",
       "       60.23013942+0.j, 60.81678495+0.j, 61.39465953+0.j, 61.96924162+0.j,\n",
       "       62.53936086+0.j, 63.10229533+0.j, 63.65880853+0.j, 64.21241578+0.j,\n",
       "       64.7568991 +0.j, 65.29237728+0.j, 65.82386917+0.j, 66.34548641+0.j,\n",
       "       66.86491919+0.j, 67.38195027+0.j, 67.88912217+0.j, 68.39391055+0.j,\n",
       "       68.89392976+0.j, 69.38664676+0.j, 69.8782433 +0.j, 70.36601629+0.j,\n",
       "       70.8511406 +0.j, 71.33399224+0.j, 71.81014548+0.j, 72.2849629 +0.j,\n",
       "       72.75634903+0.j, 73.22171019+0.j, 73.68563031+0.j, 74.14128887+0.j,\n",
       "       74.59452417+0.j, 75.04288978+0.j, 75.48625572+0.j, 75.92734749+0.j,\n",
       "       76.36650119+0.j, 76.79791177+0.j, 77.2230155 +0.j, 77.64605491+0.j,\n",
       "       78.06434733+0.j, 78.47967865+0.j, 78.88720252+0.j, 79.28848775+0.j,\n",
       "       79.68321569+0.j, 80.07624792+0.j, 80.46570032+0.j, 80.85128516+0.j,\n",
       "       81.23234728+0.j, 81.61261765+0.j, 81.98651279+0.j, 82.35802628+0.j,\n",
       "       82.72587795+0.j, 83.08795835+0.j, 83.44619269+0.j, 83.80022934+0.j,\n",
       "       84.15072055+0.j, 84.49989185+0.j, 84.84101215+0.j, 85.17626309+0.j,\n",
       "       85.51045951+0.j, 85.84189666+0.j, 86.170405  +0.j, 86.49258636+0.j,\n",
       "       86.81297021+0.j, 87.13003275+0.j, 87.4403218 +0.j, 87.74732196+0.j,\n",
       "       88.04603565+0.j, 88.34278843+0.j, 88.63544112+0.j, 88.9246356 +0.j,\n",
       "       89.21246854+0.j, 89.49288624+0.j, 89.77223923+0.j, 90.04856096+0.j,\n",
       "       90.32038354+0.j, 90.59016181+0.j, 90.85703097+0.j, 91.11777013+0.j,\n",
       "       91.37570634+0.j, 91.63023536+0.j, 91.88148009+0.j, 92.12849286+0.j,\n",
       "       92.36976203+0.j, 92.60874567+0.j, 92.84347284+0.j, 93.0743196 +0.j,\n",
       "       93.30386389+0.j, 93.5309705 +0.j])"
      ]
     },
     "execution_count": 66,
     "metadata": {},
     "output_type": "execute_result"
    }
   ],
   "source": [
    "cum_var_exp"
   ]
  },
  {
   "cell_type": "markdown",
   "metadata": {},
   "source": [
    "We can notice that 138 components has 93.53% information among all components.\n",
    "When we select 138 components we lose 6.47% information."
   ]
  },
  {
   "cell_type": "markdown",
   "metadata": {},
   "source": [
    "# 6. Select components based on scree plot"
   ]
  },
  {
   "cell_type": "markdown",
   "metadata": {},
   "source": [
    "Now we are going to do a scree plot to visualize the variance explained by the number fo components on the x axis"
   ]
  },
  {
   "cell_type": "code",
   "execution_count": 67,
   "metadata": {},
   "outputs": [
    {
     "data": {
      "image/png": "[encoded data removed]",
      "text/plain": [
       "<Figure size 576x360 with 1 Axes>"
      ]
     },
     "metadata": {
      "needs_background": "light"
     },
     "output_type": "display_data"
    }
   ],
   "source": [
    "import numpy as np\n",
    "import matplotlib\n",
    "import matplotlib.pyplot as plt\n",
    "\n",
    "# made a random array and then make it positive-definite\n",
    "num_vars = len(eig_vals)   \n",
    "num_obs = 9\n",
    "\n",
    "fig = plt.figure(figsize=(8,5))\n",
    "sing_vals = np.arange(num_vars) + 1     \n",
    "plt.plot(sing_vals, eig_vals, 'ro-', linewidth=1)    \n",
    "\n",
    "plt.title('Scree Plot')\n",
    "plt.xlabel('principal Component')\n",
    "plt.ylabel('Eigenvalue')\n",
    "plt.xlim(0,225)\n",
    "plt.show()\n"
   ]
  },
  {
   "cell_type": "markdown",
   "metadata": {},
   "source": [
    "Scree plot shows eigen value for each component. starting components has high value and in middle, some component has higher than\n",
    "others. What can we do using scree plot? We can select components based scree plot. If we select 150 components based on scree \n",
    "plot, We have to check how much information has the selected components."
   ]
  },
  {
   "cell_type": "code",
   "execution_count": null,
   "metadata": {},
   "outputs": [],
   "source": []
  },
  {
   "cell_type": "markdown",
   "metadata": {},
   "source": [
    "The following plot to shows percentage fo variance explained by each of the selected components."
   ]
  },
  {
   "cell_type": "code",
   "execution_count": 69,
   "metadata": {},
   "outputs": [],
   "source": [
    "# calculate explained variance\n",
    "total = sum(eig_vals)\n",
    "\n",
    "# divide eigen value by total eigen value and then multiple with 100 for the selected components\n",
    "var_exp = [(i/total)*100 for i in sorted(eig_vals, reverse=True)]\n",
    "cum_var_exp = np.cumsum(var_exp)"
   ]
  },
  {
   "cell_type": "code",
   "execution_count": 70,
   "metadata": {
    "scrolled": true
   },
   "outputs": [
    {
     "data": {
      "image/png": "[encoded data removed]",
      "text/plain": [
       "<Figure size 432x288 with 1 Axes>"
      ]
     },
     "metadata": {
      "needs_background": "light"
     },
     "output_type": "display_data"
    }
   ],
   "source": [
    "plt.figure()\n",
    "plt.scatter([150],[cum_var_exp[150]],color='g')\n",
    "plt.plot(cum_var_exp)\n",
    "plt.xlabel('Principal Component')\n",
    "plt.ylabel('Variance (%)')  # for each component\n",
    "plt.title('Dataset Explained Variance')\n",
    "plt.show()"
   ]
  },
  {
   "cell_type": "markdown",
   "metadata": {},
   "source": [
    "So here 150 principal components are explaining somewhere around 95 or 96% variance. So he just want to show 150 prin. comp.\n",
    "showing 95 or 96%.\n",
    "From the above plot, we can observe that the variance remains constant after the number of components reaches 150"
   ]
  },
  {
   "cell_type": "code",
   "execution_count": 71,
   "metadata": {},
   "outputs": [
    {
     "data": {
      "text/plain": [
       "(96.0995155407011+0j)"
      ]
     },
     "execution_count": 71,
     "metadata": {},
     "output_type": "execute_result"
    }
   ],
   "source": [
    "cum_var_exp[150]"
   ]
  },
  {
   "cell_type": "markdown",
   "metadata": {},
   "source": [
    "From the above result, we can see that the selected 150 components has 96% information. Here we lose 4% information. We have\n",
    "to select less component than original variable, at the same time, the  selected component must contains as much as information."
   ]
  },
  {
   "cell_type": "markdown",
   "metadata": {},
   "source": [
    "# 7. Deriving the new dataset"
   ]
  },
  {
   "cell_type": "markdown",
   "metadata": {},
   "source": [
    "Finally, we select only 150 components. Filter out eigen vector of he selected components. "
   ]
  },
  {
   "cell_type": "code",
   "execution_count": 72,
   "metadata": {},
   "outputs": [],
   "source": [
    "N = 221\n",
    "M = 150\n",
    "\n",
    "a = np.ndarray(shape = (N, 0))\n",
    "for i in range(M):\n",
    "    b = eig_pairs[i][1].reshape(N,1)\n",
    "    a = np.hstack((a,b))\n"
   ]
  },
  {
   "cell_type": "markdown",
   "metadata": {},
   "source": [
    "Perform matrix calculation of original dataset with eigen vector of selected components."
   ]
  },
  {
   "cell_type": "code",
   "execution_count": 73,
   "metadata": {},
   "outputs": [
    {
     "data": {
      "text/plain": [
       "array([[-0.00122993+0.j, -0.00262246+0.j, -0.00308992+0.j, ...,\n",
       "         0.02128375+0.j, -0.02956072+0.j,  0.02828235+0.j],\n",
       "       [-0.02026022+0.j,  0.05419077+0.j, -0.2464233 +0.j, ...,\n",
       "        -0.03961217+0.j,  0.00494863+0.j,  0.02120039+0.j],\n",
       "       [ 0.08569675+0.j, -0.07818826+0.j, -0.19064682+0.j, ...,\n",
       "        -0.07964557+0.j, -0.15700667+0.j, -0.08693511+0.j],\n",
       "       ...,\n",
       "       [-0.00857016+0.j, -0.00535788+0.j, -0.01058329+0.j, ...,\n",
       "         0.0526075 +0.j, -0.01911777+0.j, -0.03140392+0.j],\n",
       "       [-0.06102453+0.j, -0.07546782+0.j, -0.0287484 +0.j, ...,\n",
       "        -0.0070809 +0.j, -0.01666643+0.j, -0.00773973+0.j],\n",
       "       [ 0.12324052+0.j,  0.10862103+0.j,  0.05823822+0.j, ...,\n",
       "        -0.02084388+0.j,  0.00570488+0.j,  0.01271086+0.j]])"
      ]
     },
     "execution_count": 73,
     "metadata": {},
     "output_type": "execute_result"
    }
   ],
   "source": [
    "a"
   ]
  },
  {
   "cell_type": "code",
   "execution_count": 74,
   "metadata": {},
   "outputs": [],
   "source": [
    "# Projection onto the New feature space\n",
    "Y = x_std.dot(a)\n"
   ]
  },
  {
   "cell_type": "code",
   "execution_count": 76,
   "metadata": {},
   "outputs": [
    {
     "data": {
      "text/plain": [
       "(1460, 150)"
      ]
     },
     "execution_count": 76,
     "metadata": {},
     "output_type": "execute_result"
    }
   ],
   "source": [
    "Y.shape"
   ]
  },
  {
   "cell_type": "code",
   "execution_count": 77,
   "metadata": {},
   "outputs": [
    {
     "data": {
      "text/plain": [
       "array([[ 3.15172011+0.j,  1.21878173+0.j,  0.34350202+0.j, ...,\n",
       "         0.05412658+0.j,  0.07858162+0.j, -0.14685771+0.j],\n",
       "       [-0.40369184+0.j, -2.94273142+0.j,  0.37119922+0.j, ...,\n",
       "         0.29748698+0.j, -0.9795956 +0.j,  0.02092249+0.j],\n",
       "       [ 3.45984419+0.j,  0.84736524+0.j,  0.09569296+0.j, ...,\n",
       "        -0.21419079+0.j,  0.2568009 +0.j,  0.14140836+0.j],\n",
       "       ...,\n",
       "       [ 0.24086792+0.j,  1.7220848 +0.j, -3.21917314+0.j, ...,\n",
       "         1.0885956 +0.j, -1.9170509 +0.j,  0.6719719 +0.j],\n",
       "       [-3.0151936 +0.j, -3.09806924+0.j,  1.58955202+0.j, ...,\n",
       "        -0.59981306+0.j,  0.03426459+0.j,  0.22867934+0.j],\n",
       "       [-0.92426149+0.j, -3.52702079+0.j,  0.87559633+0.j, ...,\n",
       "        -0.61270902+0.j, -0.08401412+0.j,  0.81225212+0.j]])"
      ]
     },
     "execution_count": 77,
     "metadata": {},
     "output_type": "execute_result"
    }
   ],
   "source": [
    "Y"
   ]
  },
  {
   "cell_type": "code",
   "execution_count": 79,
   "metadata": {},
   "outputs": [
    {
     "data": {
      "text/plain": [
       "array([[ 3.15172011+0.j,  1.21878173+0.j,  0.34350202+0.j, ...,\n",
       "         0.05412658+0.j,  0.07858162+0.j, -0.14685771+0.j],\n",
       "       [-0.40369184+0.j, -2.94273142+0.j,  0.37119922+0.j, ...,\n",
       "         0.29748698+0.j, -0.9795956 +0.j,  0.02092249+0.j],\n",
       "       [ 3.45984419+0.j,  0.84736524+0.j,  0.09569296+0.j, ...,\n",
       "        -0.21419079+0.j,  0.2568009 +0.j,  0.14140836+0.j],\n",
       "       ...,\n",
       "       [ 0.24086792+0.j,  1.7220848 +0.j, -3.21917314+0.j, ...,\n",
       "         1.0885956 +0.j, -1.9170509 +0.j,  0.6719719 +0.j],\n",
       "       [-3.0151936 +0.j, -3.09806924+0.j,  1.58955202+0.j, ...,\n",
       "        -0.59981306+0.j,  0.03426459+0.j,  0.22867934+0.j],\n",
       "       [-0.92426149+0.j, -3.52702079+0.j,  0.87559633+0.j, ...,\n",
       "        -0.61270902+0.j, -0.08401412+0.j,  0.81225212+0.j]])"
      ]
     },
     "execution_count": 79,
     "metadata": {},
     "output_type": "execute_result"
    }
   ],
   "source": [
    "Y"
   ]
  },
  {
   "cell_type": "code",
   "execution_count": null,
   "metadata": {},
   "outputs": [],
   "source": []
  }
 ],
 "metadata": {
  "kernelspec": {
   "display_name": "Python 3",
   "language": "python",
   "name": "python3"
  },
  "language_info": {
   "codemirror_mode": {
    "name": "ipython",
    "version": 3
   },
   "file_extension": ".py",
   "mimetype": "text/x-python",
   "name": "python",
   "nbconvert_exporter": "python",
   "pygments_lexer": "ipython3",
   "version": "3.8.3"
  }
 },
 "nbformat": 4,
 "nbformat_minor": 4
}
